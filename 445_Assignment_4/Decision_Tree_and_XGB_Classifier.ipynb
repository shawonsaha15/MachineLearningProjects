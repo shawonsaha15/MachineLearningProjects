{
  "nbformat": 4,
  "nbformat_minor": 0,
  "metadata": {
    "colab": {
      "provenance": []
    },
    "kernelspec": {
      "name": "python3",
      "display_name": "Python 3"
    },
    "language_info": {
      "name": "python"
    }
  },
  "cells": [
    {
      "cell_type": "code",
      "execution_count": 1,
      "metadata": {
        "colab": {
          "base_uri": "https://localhost:8080/"
        },
        "id": "2sUlioD9GwgI",
        "outputId": "f587df1b-1b0e-4d4b-893a-9e785bfd65fd"
      },
      "outputs": [
        {
          "output_type": "stream",
          "name": "stdout",
          "text": [
            "     buying  maint  doors persons lug_boot safety  class\n",
            "0     vhigh  vhigh      2       2    small    low  unacc\n",
            "1     vhigh  vhigh      2       2    small    med  unacc\n",
            "2     vhigh  vhigh      2       2    small   high  unacc\n",
            "3     vhigh  vhigh      2       2      med    low  unacc\n",
            "4     vhigh  vhigh      2       2      med    med  unacc\n",
            "...     ...    ...    ...     ...      ...    ...    ...\n",
            "1723    low    low  5more    more      med    med   good\n",
            "1724    low    low  5more    more      med   high  vgood\n",
            "1725    low    low  5more    more      big    low  unacc\n",
            "1726    low    low  5more    more      big    med   good\n",
            "1727    low    low  5more    more      big   high  vgood\n",
            "\n",
            "[1728 rows x 7 columns]\n",
            "\n",
            "Checking NULL values:\n",
            " buying      0\n",
            "maint       0\n",
            "doors       0\n",
            "persons     0\n",
            "lug_boot    0\n",
            "safety      0\n",
            "class       0\n",
            "dtype: int64\n"
          ]
        }
      ],
      "source": [
        "#include libraries\n",
        "import numpy as np\n",
        "import pandas as pd\n",
        "import matplotlib.pyplot as plt\n",
        "\n",
        "#load data and checking contents\n",
        "data = pd.read_csv(\"car.data.csv\")\n",
        "print(data)\n",
        "\n",
        "#check for null values\n",
        "print(\"\\nChecking NULL values:\\n\",data.isnull().sum())\n"
      ]
    },
    {
      "cell_type": "code",
      "source": [
        "#preprocessing data\n",
        "categorical_cols = data.select_dtypes(include=['object']).columns.tolist()\n",
        "print(\"Categorical Columns:\", categorical_cols)\n",
        "print(\"\\n\")\n",
        "\n",
        "#label encoding features\n",
        "from sklearn.preprocessing import LabelEncoder\n",
        "\n",
        "labelEncoder = LabelEncoder()\n",
        "\n",
        "for col in categorical_cols:\n",
        "  data[col] = labelEncoder.fit_transform(data[col])\n",
        "\n",
        "print(data)"
      ],
      "metadata": {
        "id": "b_Z5-eI0MOBw",
        "colab": {
          "base_uri": "https://localhost:8080/"
        },
        "outputId": "32f5334c-5d53-4777-d2a9-f15e2884b5ae"
      },
      "execution_count": 2,
      "outputs": [
        {
          "output_type": "stream",
          "name": "stdout",
          "text": [
            "Categorical Columns: ['buying', 'maint', 'doors', 'persons', 'lug_boot', 'safety', 'class']\n",
            "\n",
            "\n",
            "      buying  maint  doors  persons  lug_boot  safety  class\n",
            "0          3      3      0        0         2       1      2\n",
            "1          3      3      0        0         2       2      2\n",
            "2          3      3      0        0         2       0      2\n",
            "3          3      3      0        0         1       1      2\n",
            "4          3      3      0        0         1       2      2\n",
            "...      ...    ...    ...      ...       ...     ...    ...\n",
            "1723       1      1      3        2         1       2      1\n",
            "1724       1      1      3        2         1       0      3\n",
            "1725       1      1      3        2         0       1      2\n",
            "1726       1      1      3        2         0       2      1\n",
            "1727       1      1      3        2         0       0      3\n",
            "\n",
            "[1728 rows x 7 columns]\n"
          ]
        }
      ]
    },
    {
      "cell_type": "code",
      "source": [
        "#selecting target variable and features\n",
        "X = data.drop('class', axis = 1)\n",
        "y = data['class']\n",
        "\n",
        "#splitting data for training, validating and testing\n",
        "X_train = X.iloc[:1209]\n",
        "X_validation = X.iloc[1209:1468]\n",
        "X_test = X.iloc[1468:]\n",
        "print(X_validation)\n",
        "y_train = y.iloc[:1209]\n",
        "y_validation = y.iloc[1209:1468]\n",
        "y_test = y.iloc[1468:]"
      ],
      "metadata": {
        "id": "jYcVCLkX0Q5g",
        "colab": {
          "base_uri": "https://localhost:8080/"
        },
        "outputId": "fdccc102-748f-4746-d01b-be55541821fb"
      },
      "execution_count": 3,
      "outputs": [
        {
          "output_type": "stream",
          "name": "stdout",
          "text": [
            "      buying  maint  doors  persons  lug_boot  safety\n",
            "1209       2      1      0        2         1       1\n",
            "1210       2      1      0        2         1       2\n",
            "1211       2      1      0        2         1       0\n",
            "1212       2      1      0        2         0       1\n",
            "1213       2      1      0        2         0       2\n",
            "...      ...    ...    ...      ...       ...     ...\n",
            "1463       1      0      2        0         1       0\n",
            "1464       1      0      2        0         0       1\n",
            "1465       1      0      2        0         0       2\n",
            "1466       1      0      2        0         0       0\n",
            "1467       1      0      2        1         2       1\n",
            "\n",
            "[259 rows x 6 columns]\n"
          ]
        }
      ]
    },
    {
      "cell_type": "code",
      "source": [
        "from sklearn.model_selection import GridSearchCV\n",
        "from sklearn.tree import DecisionTreeClassifier\n",
        "\n",
        "# Define the Decision Tree Classifier\n",
        "dt_classifier = DecisionTreeClassifier()\n",
        "\n",
        "# Define the hyperparameter grid for grid search\n",
        "param_grid = {\n",
        "    'max_depth': [3, 5, 7],\n",
        "    'min_samples_split': [2, 5, 10],\n",
        "    'criterion': ['gini', 'entropy']\n",
        "}\n",
        "\n",
        "# Initialize GridSearchCV with cross-validation (e.g., 5-fold)\n",
        "grid_search = GridSearchCV(estimator=dt_classifier, param_grid=param_grid, cv=5, scoring='accuracy')\n",
        "\n",
        "# Fit GridSearchCV on the combined training and validation sets\n",
        "X_train_new = X.iloc[:1468]\n",
        "y_train_new = y.iloc[:1468]\n",
        "grid_search.fit(X_train_new, y_train_new)\n",
        "\n",
        "# Get the best model on the test set\n",
        "best_model = grid_search.best_estimator_\n",
        "\n",
        "print(\"Best Model Parameters:\", grid_search.best_params_)\n",
        "\n"
      ],
      "metadata": {
        "id": "u4bIEhRjdsni",
        "colab": {
          "base_uri": "https://localhost:8080/"
        },
        "outputId": "4c857190-a70e-40c9-a831-5a33b0e6614c"
      },
      "execution_count": 4,
      "outputs": [
        {
          "output_type": "stream",
          "name": "stdout",
          "text": [
            "Best Model Parameters: {'criterion': 'gini', 'max_depth': 7, 'min_samples_split': 2}\n"
          ]
        }
      ]
    },
    {
      "cell_type": "markdown",
      "source": [
        "**Evaluation Metrics**"
      ],
      "metadata": {
        "id": "OXcnxl9Y7rsl"
      }
    },
    {
      "cell_type": "code",
      "source": [
        "#Accuracy\n",
        "def calc_accuracy(y_true, y_pred):\n",
        "  correct = 0\n",
        "  total = len(y_true)\n",
        "\n",
        "  for true_label, predicted_label in zip(y_true, y_pred):\n",
        "    if true_label == predicted_label:\n",
        "      correct += 1\n",
        "\n",
        "  accuracy = correct / total\n",
        "  return accuracy\n",
        "\n",
        "#Confusion Matrix\n",
        "def confusion_matrix(y_true, y_pred):\n",
        "  TN, TP, FN, FP = 0, 0, 0, 0\n",
        "\n",
        "  for true_label, predicted_label in zip(y_true, y_pred):\n",
        "    if true_label == 0 and predicted_label == 0:\n",
        "      TN += 1\n",
        "    elif true_label == 0 and predicted_label == 1:\n",
        "      FP += 1\n",
        "    elif true_label == 1 and predicted_label == 0:\n",
        "      FN += 1\n",
        "    elif true_label == 1 and predicted_label == 1:\n",
        "      TP += 1\n",
        "\n",
        "  return (TN, TP, FN, FP)\n",
        "\n",
        "#Average Precision\n",
        "def avg_precision(y_true, y_pred):\n",
        "  data = list(zip(y_true, y_pred))\n",
        "  data.sort(key=lambda x: x[1], reverse=True)\n",
        "\n",
        "  # Initialize variables\n",
        "  num_positives = sum(y_true)\n",
        "  num_examples = len(y_true)\n",
        "  true_positives = 0\n",
        "  precision_sum = 0\n",
        "  recall_sum = 0\n",
        "\n",
        "  # Calculate precision and recall at each threshold\n",
        "  for i in range(num_examples):\n",
        "    if data[i][0] == 1:\n",
        "      true_positives += 1\n",
        "      precision = true_positives / (i + 1)\n",
        "      recall = true_positives / num_positives\n",
        "      precision_sum += precision\n",
        "      recall_sum += recall\n",
        "\n",
        "  # Calculate Average Precision (AP) using the precision-recall curve\n",
        "  if num_positives == 0:\n",
        "    average_precision = 0\n",
        "  else:\n",
        "    average_precision = precision_sum / num_positives\n",
        "\n",
        "  return average_precision\n",
        "\n",
        "\n",
        "#Average Recall\n",
        "def avg_recall(y_true, y_pred):\n",
        "  total_positives = sum(y_true)  # Total number of positive samples\n",
        "  thresholds = sorted(set(y_pred), reverse=True)  # Unique sorted thresholds\n",
        "\n",
        "  recall_values = []\n",
        "  for threshold in thresholds:\n",
        "    y_pred_thresholded = [1 if pred >= threshold else 0 for pred in y_pred]\n",
        "    true_positives = sum([1 for true, pred in zip(y_true, y_pred_thresholded) if true == 1 and pred == 1])\n",
        "    recall = true_positives / total_positives\n",
        "    recall_values.append(recall)\n",
        "\n",
        "  average_recall = sum(recall_values) / len(recall_values)\n",
        "\n",
        "  return average_recall\n",
        "\n",
        "#Average F1-Score\n",
        "def avg_f1(y_true, y_pred):\n",
        "  total_positives = sum(y_true)  # Total number of positive samples\n",
        "  thresholds = sorted(set(y_pred), reverse=True)  # Unique sorted thresholds\n",
        "\n",
        "  f1_scores = []\n",
        "  for threshold in thresholds:\n",
        "    y_pred_thresholded = [1 if pred >= threshold else 0 for pred in y_pred]\n",
        "\n",
        "  # Calculate precision and recall\n",
        "  true_positives = sum([1 for true, pred in zip(y_true, y_pred_thresholded) if true == 1 and pred == 1])\n",
        "  predicted_positives = sum(y_pred_thresholded)\n",
        "\n",
        "  if predicted_positives == 0:\n",
        "    precision = 0.0\n",
        "  else:\n",
        "    precision = true_positives / predicted_positives\n",
        "\n",
        "  recall = true_positives / total_positives\n",
        "\n",
        "  # Calculate F1-score\n",
        "  if precision + recall == 0:\n",
        "    f1 = 0.0\n",
        "  else:\n",
        "    f1 = 2 * (precision * recall) / (precision + recall)\n",
        "\n",
        "  f1_scores.append(f1)\n",
        "\n",
        "  average_f1_score = sum(f1_scores) / len(f1_scores)\n",
        "\n",
        "  return average_f1_score"
      ],
      "metadata": {
        "id": "lqrd9wOM7oCE"
      },
      "execution_count": 13,
      "outputs": []
    },
    {
      "cell_type": "code",
      "source": [
        "y_pred = best_model.predict(X_test)\n",
        "\n",
        "acc = calc_accuracy(y_test, y_pred)\n",
        "print(\"Accuracy: \", acc)\n",
        "ap = avg_precision(y_test, y_pred)\n",
        "print(\"Average Precision: \", ap)\n",
        "ar = avg_recall(y_test, y_pred)\n",
        "print(\"Average Recall: \", ar)\n",
        "af = avg_f1(y_test, y_pred)\n",
        "print(\"Average F1-Score: \", af)\n",
        "TN, TP, FN, FP = confusion_matrix(y_test, y_pred)\n",
        "print(\"Confusion Matrix:\")\n",
        "print(f\"TN: {TN}   FP: {FP}\")\n",
        "print(f\"FN: {FN}   TP: {TP}\")"
      ],
      "metadata": {
        "colab": {
          "base_uri": "https://localhost:8080/"
        },
        "id": "ta0gKedI8ZiR",
        "outputId": "fea3af4e-4932-4fd3-a376-4efe22d04fcb"
      },
      "execution_count": 15,
      "outputs": [
        {
          "output_type": "stream",
          "name": "stdout",
          "text": [
            "Accuracy:  0.7769230769230769\n",
            "Average Precision:  0.017221224472013914\n",
            "Average Recall:  0.04434250764525994\n",
            "Average F1-Score:  0.13218390804597702\n",
            "Confusion Matrix:\n",
            "TN: 36   FP: 0\n",
            "FN: 40   TP: 0\n"
          ]
        }
      ]
    }
  ]
}