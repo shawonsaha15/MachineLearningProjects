{
  "nbformat": 4,
  "nbformat_minor": 0,
  "metadata": {
    "colab": {
      "provenance": []
    },
    "kernelspec": {
      "name": "python3",
      "display_name": "Python 3"
    },
    "language_info": {
      "name": "python"
    }
  },
  "cells": [
    {
      "cell_type": "code",
      "execution_count": 1,
      "metadata": {
        "id": "Xjg-hU8Xz0G8"
      },
      "outputs": [],
      "source": [
        "# Swapnil Saha Shawon (2022533042)\n",
        "# Tamanna Rahman (2021450642)\n",
        "# Syeda Mashiat Tabassum (2031356642)"
      ]
    },
    {
      "cell_type": "markdown",
      "source": [
        "## **Brain Cancer Dataset**"
      ],
      "metadata": {
        "id": "1cHKVysz2hGk"
      }
    },
    {
      "cell_type": "code",
      "source": [
        "#include libraries\n",
        "import numpy as np\n",
        "import pandas as pd\n",
        "import matplotlib.pyplot as plt\n",
        "\n",
        "#load data and checking contents\n",
        "data = pd.read_csv(\"DT-BrainCancer.csv\")\n",
        "print(data)\n",
        "\n",
        "#check for null values\n",
        "print(\"\\nChecking NULL values:\\n\",data.isnull().sum())"
      ],
      "metadata": {
        "colab": {
          "base_uri": "https://localhost:8080/"
        },
        "id": "6euOoj9c2gcR",
        "outputId": "5a8b9477-9b70-4ee0-b55a-3e14d771960f"
      },
      "execution_count": 2,
      "outputs": [
        {
          "output_type": "stream",
          "name": "stdout",
          "text": [
            "    Unnamed: 0     sex   diagnosis             loc  ki    gtv  status\n",
            "0            1  Female  Meningioma  Infratentorial  90   6.11       0\n",
            "1            2    Male   HG glioma  Supratentorial  90  19.35       1\n",
            "2            3  Female  Meningioma  Infratentorial  70   7.95       0\n",
            "3            4  Female   LG glioma  Supratentorial  80   7.61       1\n",
            "4            5    Male   HG glioma  Supratentorial  90   5.06       1\n",
            "..         ...     ...         ...             ...  ..    ...     ...\n",
            "83          84    Male   HG glioma  Supratentorial  80   0.16       1\n",
            "84          85    Male   HG glioma  Supratentorial  80  19.81       1\n",
            "85          86    Male  Meningioma  Supratentorial  90   2.50       0\n",
            "86          87    Male  Meningioma  Supratentorial  90   2.02       0\n",
            "87          88    Male       Other  Infratentorial  80   0.11       0\n",
            "\n",
            "[88 rows x 7 columns]\n",
            "\n",
            "Checking NULL values:\n",
            " Unnamed: 0    0\n",
            "sex           0\n",
            "diagnosis     1\n",
            "loc           0\n",
            "ki            0\n",
            "gtv           0\n",
            "status        0\n",
            "dtype: int64\n"
          ]
        }
      ]
    },
    {
      "cell_type": "code",
      "source": [
        "#preprocessing data\n",
        "categorical_cols = data.select_dtypes(include=['object']).columns.tolist()\n",
        "print(\"Categorical Columns:\", categorical_cols)\n",
        "print(\"\\n\")\n",
        "\n",
        "data = pd.get_dummies(data, columns=categorical_cols, drop_first=True)\n",
        "\n",
        "print(data)"
      ],
      "metadata": {
        "colab": {
          "base_uri": "https://localhost:8080/"
        },
        "id": "Uq7N4OUa2p9_",
        "outputId": "7a185c94-6938-48ea-bb28-8aaa64f657f0"
      },
      "execution_count": 3,
      "outputs": [
        {
          "output_type": "stream",
          "name": "stdout",
          "text": [
            "Categorical Columns: ['sex', 'diagnosis', 'loc']\n",
            "\n",
            "\n",
            "    Unnamed: 0  ki    gtv  status  sex_Male  diagnosis_LG glioma  \\\n",
            "0            1  90   6.11       0     False                False   \n",
            "1            2  90  19.35       1      True                False   \n",
            "2            3  70   7.95       0     False                False   \n",
            "3            4  80   7.61       1     False                 True   \n",
            "4            5  90   5.06       1      True                False   \n",
            "..         ...  ..    ...     ...       ...                  ...   \n",
            "83          84  80   0.16       1      True                False   \n",
            "84          85  80  19.81       1      True                False   \n",
            "85          86  90   2.50       0      True                False   \n",
            "86          87  90   2.02       0      True                False   \n",
            "87          88  80   0.11       0      True                False   \n",
            "\n",
            "    diagnosis_Meningioma  diagnosis_Other  loc_Supratentorial  \n",
            "0                   True            False               False  \n",
            "1                  False            False                True  \n",
            "2                   True            False               False  \n",
            "3                  False            False                True  \n",
            "4                  False            False                True  \n",
            "..                   ...              ...                 ...  \n",
            "83                 False            False                True  \n",
            "84                 False            False                True  \n",
            "85                  True            False                True  \n",
            "86                  True            False                True  \n",
            "87                 False             True               False  \n",
            "\n",
            "[88 rows x 9 columns]\n"
          ]
        }
      ]
    },
    {
      "cell_type": "code",
      "source": [
        "#selecting target variable and features\n",
        "X = data.drop(['status','Unnamed: 0'], axis = 1)\n",
        "y = data['status']\n",
        "\n",
        "#splitting data for training, validating and testing\n",
        "X_train = X.iloc[:61]\n",
        "X_validation = X.iloc[61:74]\n",
        "X_test = X.iloc[74:]\n",
        "print(X_validation)\n",
        "y_train = y.iloc[:61]\n",
        "y_validation = y.iloc[61:74]\n",
        "y_test = y.iloc[74:]"
      ],
      "metadata": {
        "colab": {
          "base_uri": "https://localhost:8080/"
        },
        "id": "soFx8OtG2spf",
        "outputId": "6691724e-8f2a-4d59-c4be-389f9a921f97"
      },
      "execution_count": 4,
      "outputs": [
        {
          "output_type": "stream",
          "name": "stdout",
          "text": [
            "     ki    gtv  sex_Male  diagnosis_LG glioma  diagnosis_Meningioma  \\\n",
            "61   80  11.51      True                False                  True   \n",
            "62   40  22.87     False                False                 False   \n",
            "63   80   4.77      True                False                  True   \n",
            "64   80   9.58      True                 True                 False   \n",
            "65  100   4.00     False                False                  True   \n",
            "66   80   7.59     False                False                 False   \n",
            "67   70   0.01      True                False                 False   \n",
            "68   80   6.93     False                False                  True   \n",
            "69   70   3.63     False                False                  True   \n",
            "70   70   8.45      True                False                  True   \n",
            "71   80  20.93      True                False                  True   \n",
            "72   90   2.64      True                 True                 False   \n",
            "73   80   0.19     False                False                 False   \n",
            "\n",
            "    diagnosis_Other  loc_Supratentorial  \n",
            "61            False                True  \n",
            "62            False                True  \n",
            "63            False                True  \n",
            "64            False                True  \n",
            "65            False                True  \n",
            "66            False                True  \n",
            "67             True               False  \n",
            "68            False                True  \n",
            "69            False                True  \n",
            "70            False                True  \n",
            "71            False                True  \n",
            "72            False                True  \n",
            "73            False                True  \n"
          ]
        }
      ]
    },
    {
      "cell_type": "markdown",
      "source": [
        "### **Evaluation Metrics**"
      ],
      "metadata": {
        "id": "zeCqw4VK2uxi"
      }
    },
    {
      "cell_type": "code",
      "source": [
        "#Accuracy\n",
        "def calc_accuracy(y_true, y_pred):\n",
        "  correct = 0\n",
        "  total = len(y_true)\n",
        "\n",
        "  for true_label, predicted_label in zip(y_true, y_pred):\n",
        "    if true_label == predicted_label:\n",
        "      correct += 1\n",
        "\n",
        "  accuracy = correct / total\n",
        "  return accuracy\n",
        "\n",
        "#Confusion Matrix\n",
        "def confusion_matrix(y_true, y_pred):\n",
        "  TN, TP, FN, FP = 0, 0, 0, 0\n",
        "\n",
        "  for true_label, predicted_label in zip(y_true, y_pred):\n",
        "    if true_label == 0 and predicted_label == 0:\n",
        "      TN += 1\n",
        "    elif true_label == 0 and predicted_label == 1:\n",
        "      FP += 1\n",
        "    elif true_label == 1 and predicted_label == 0:\n",
        "      FN += 1\n",
        "    elif true_label == 1 and predicted_label == 1:\n",
        "      TP += 1\n",
        "\n",
        "  return (TN, TP, FN, FP)\n",
        "\n",
        "#Precision\n",
        "def precision(y_true, y_pred):\n",
        "  true_positives = 0\n",
        "  false_positives = 0\n",
        "\n",
        "  for true, pred in zip(y_true, y_pred):\n",
        "    if true == 1 and pred == 1:\n",
        "      true_positives += 1\n",
        "    elif true == 0 and pred == 1:\n",
        "      false_positives += 1\n",
        "\n",
        "  if true_positives + false_positives == 0:\n",
        "    precision = 0.0\n",
        "  else:\n",
        "    precision = true_positives / (true_positives + false_positives)\n",
        "\n",
        "  return precision\n",
        "\n",
        "\n",
        "#Recall\n",
        "def recall(y_true, y_pred):\n",
        "  true_positives = 0\n",
        "  false_negatives = 0\n",
        "\n",
        "  for true, pred in zip(y_true, y_pred):\n",
        "    if true == 1 and pred == 1:\n",
        "      true_positives += 1\n",
        "    elif true == 1 and pred == 0:\n",
        "      false_negatives += 1\n",
        "\n",
        "  if true_positives + false_negatives == 0:\n",
        "    recall = 0.0\n",
        "  else:\n",
        "    recall = true_positives / (true_positives + false_negatives)\n",
        "\n",
        "  return recall\n",
        "\n",
        "#F1-Score\n",
        "def f1(precision, recall):\n",
        "  f1_score = (2 * precision * recall) / (precision + recall) if (precision + recall) > 0 else 0\n",
        "\n",
        "  return f1_score\n"
      ],
      "metadata": {
        "id": "nMZ-s5CW2xio"
      },
      "execution_count": 5,
      "outputs": []
    },
    {
      "cell_type": "markdown",
      "source": [
        "### **ZeroR**"
      ],
      "metadata": {
        "id": "0UQ4tYgf22Cq"
      }
    },
    {
      "cell_type": "code",
      "source": [
        "# Build ZeroR Classifier\n",
        "from collections import Counter\n",
        "\n",
        "class ZeroR:\n",
        "    def __init__(self):\n",
        "        self.majority_class = None\n",
        "\n",
        "    def fit(self, X, y):\n",
        "        # Find the majority class\n",
        "        self.majority_class = Counter(y).most_common(1)[0][0]\n",
        "\n",
        "    def predict(self, X):\n",
        "        # Return the majority class for all instances\n",
        "        return [self.majority_class] * len(X)\n",
        "\n",
        "\n",
        "# Initialize the ZeroR model\n",
        "zr = ZeroR()\n",
        "\n",
        "# Train the model\n",
        "zr.fit(X_train, y_train)\n"
      ],
      "metadata": {
        "id": "2rDO3C9V25Mv"
      },
      "execution_count": 6,
      "outputs": []
    },
    {
      "cell_type": "code",
      "source": [
        "# Evaluating with Training set\n",
        "y_pred = zr.predict(X_train)\n",
        "\n",
        "acc = calc_accuracy(y_train, y_pred)\n",
        "print(\"Accuracy: \", acc)\n",
        "prec = precision(y_train, y_pred)\n",
        "print(\"Precision: \", prec)\n",
        "rec = recall(y_train, y_pred)\n",
        "print(\"Recall: \", rec)\n",
        "f1_score = f1(prec, rec)\n",
        "print(\"F1-Score: \", f1_score)\n",
        "TN, TP, FN, FP = confusion_matrix(y_train, y_pred)\n",
        "print(\"Confusion Matrix:\")\n",
        "print(f\"TN: {TN}   FP: {FP}\")\n",
        "print(f\"FN: {FN}   TP: {TP}\")\n",
        "\n",
        "plt.plot((rec, prec), color='b', lw=2)\n",
        "plt.xlabel('Recall')\n",
        "plt.ylabel('Precision')\n",
        "plt.title('Precision-Recall Curve')\n",
        "plt.show()"
      ],
      "metadata": {
        "colab": {
          "base_uri": "https://localhost:8080/",
          "height": 594
        },
        "id": "XtXilD-X6CBL",
        "outputId": "044ca497-7566-4d8f-e4a7-ddd1757b97ad"
      },
      "execution_count": 9,
      "outputs": [
        {
          "output_type": "stream",
          "name": "stdout",
          "text": [
            "Accuracy:  0.5573770491803278\n",
            "Precision:  0.0\n",
            "Recall:  0.0\n",
            "F1-Score:  0\n",
            "Confusion Matrix:\n",
            "TN: 34   FP: 0\n",
            "FN: 27   TP: 0\n"
          ]
        },
        {
          "output_type": "display_data",
          "data": {
            "text/plain": [
              "<Figure size 640x480 with 1 Axes>"
            ],
            "image/png": "[encoded data removed]"
          },
          "metadata": {}
        }
      ]
    },
    {
      "cell_type": "code",
      "source": [
        "# Evaluating with Validation set\n",
        "y_pred = zr.predict(X_validation)\n",
        "\n",
        "acc = calc_accuracy(y_validation, y_pred)\n",
        "print(\"Accuracy: \", acc)\n",
        "prec = precision(y_validation, y_pred)\n",
        "print(\"Precision: \", prec)\n",
        "rec = recall(y_validation, y_pred)\n",
        "print(\"Recall: \", rec)\n",
        "f1_score = f1(prec, rec)\n",
        "print(\"F1-Score: \", f1_score)\n",
        "TN, TP, FN, FP = confusion_matrix(y_validation, y_pred)\n",
        "print(\"Confusion Matrix:\")\n",
        "print(f\"TN: {TN}   FP: {FP}\")\n",
        "print(f\"FN: {FN}   TP: {TP}\")\n",
        "\n",
        "plt.plot((rec, prec), color='b', lw=2)\n",
        "plt.xlabel('Recall')\n",
        "plt.ylabel('Precision')\n",
        "plt.title('Precision-Recall Curve')\n",
        "plt.show()"
      ],
      "metadata": {
        "colab": {
          "base_uri": "https://localhost:8080/",
          "height": 594
        },
        "id": "NeY82RFmknyb",
        "outputId": "65feeea1-cb69-4db1-b714-16ba0231d73b"
      },
      "execution_count": 8,
      "outputs": [
        {
          "output_type": "stream",
          "name": "stdout",
          "text": [
            "Accuracy:  0.6153846153846154\n",
            "Precision:  0.0\n",
            "Recall:  0.0\n",
            "F1-Score:  0\n",
            "Confusion Matrix:\n",
            "TN: 8   FP: 0\n",
            "FN: 5   TP: 0\n"
          ]
        },
        {
          "output_type": "display_data",
          "data": {
            "text/plain": [
              "<Figure size 640x480 with 1 Axes>"
            ],
            "image/png": "[encoded data removed]"
          },
          "metadata": {}
        }
      ]
    },
    {
      "cell_type": "code",
      "source": [
        "# Evaluating with Training set\n",
        "y_pred = zr.predict(X_test)\n",
        "\n",
        "acc = calc_accuracy(y_test, y_pred)\n",
        "print(\"Accuracy: \", acc)\n",
        "prec = precision(y_test, y_pred)\n",
        "print(\"Precision: \", prec)\n",
        "rec = recall(y_test, y_pred)\n",
        "print(\"Recall: \", rec)\n",
        "f1_score = f1(prec, rec)\n",
        "print(\"F1-Score: \", f1_score)\n",
        "TN, TP, FN, FP = confusion_matrix(y_test, y_pred)\n",
        "print(\"Confusion Matrix:\")\n",
        "print(f\"TN: {TN}   FP: {FP}\")\n",
        "print(f\"FN: {FN}   TP: {TP}\")\n",
        "\n",
        "plt.plot((rec, prec), color='b', lw=2)\n",
        "plt.xlabel('Recall')\n",
        "plt.ylabel('Precision')\n",
        "plt.title('Precision-Recall Curve')\n",
        "plt.show()"
      ],
      "metadata": {
        "colab": {
          "base_uri": "https://localhost:8080/",
          "height": 594
        },
        "id": "2oCpDHzykxZ6",
        "outputId": "00606fc6-275c-4c0d-b726-bebb4e02e207"
      },
      "execution_count": 10,
      "outputs": [
        {
          "output_type": "stream",
          "name": "stdout",
          "text": [
            "Accuracy:  0.7857142857142857\n",
            "Precision:  0.0\n",
            "Recall:  0.0\n",
            "F1-Score:  0\n",
            "Confusion Matrix:\n",
            "TN: 11   FP: 0\n",
            "FN: 3   TP: 0\n"
          ]
        },
        {
          "output_type": "display_data",
          "data": {
            "text/plain": [
              "<Figure size 640x480 with 1 Axes>"
            ],
            "image/png": "[encoded data removed]"
          },
          "metadata": {}
        }
      ]
    }
  ]
}