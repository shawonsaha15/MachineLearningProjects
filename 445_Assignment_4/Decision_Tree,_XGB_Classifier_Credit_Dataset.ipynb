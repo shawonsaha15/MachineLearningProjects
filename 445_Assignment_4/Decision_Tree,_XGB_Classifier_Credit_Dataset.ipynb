{
  "nbformat": 4,
  "nbformat_minor": 0,
  "metadata": {
    "colab": {
      "provenance": []
    },
    "kernelspec": {
      "name": "python3",
      "display_name": "Python 3"
    },
    "language_info": {
      "name": "python"
    }
  },
  "cells": [
    {
      "cell_type": "markdown",
      "source": [
        "## **Credit Dataset**"
      ],
      "metadata": {
        "id": "s-y1oDQ2LBO1"
      }
    },
    {
      "cell_type": "code",
      "execution_count": 1,
      "metadata": {
        "colab": {
          "base_uri": "https://localhost:8080/"
        },
        "id": "RBPQ4oTsKhtB",
        "outputId": "30106a00-6c6c-4634-b26f-fb2a22cc2e99"
      },
      "outputs": [
        {
          "output_type": "stream",
          "name": "stdout",
          "text": [
            "      Income  Limit  Rating  Cards  Age  Education  Own Student Married  \\\n",
            "0     14.891   3606     283      2   34         11   No      No     Yes   \n",
            "1    106.025   6645     483      3   82         15  Yes     Yes     Yes   \n",
            "2    104.593   7075     514      4   71         11   No      No      No   \n",
            "3    148.924   9504     681      3   36         11  Yes      No      No   \n",
            "4     55.882   4897     357      2   68         16   No      No     Yes   \n",
            "..       ...    ...     ...    ...  ...        ...  ...     ...     ...   \n",
            "395   12.096   4100     307      3   32         13   No      No     Yes   \n",
            "396   13.364   3838     296      5   65         17   No      No      No   \n",
            "397   57.872   4171     321      5   67         12  Yes      No     Yes   \n",
            "398   37.728   2525     192      1   44         13   No      No     Yes   \n",
            "399   18.701   5524     415      5   64          7  Yes      No      No   \n",
            "\n",
            "    Region  Balance  \n",
            "0    South      333  \n",
            "1     West      903  \n",
            "2     West      580  \n",
            "3     West      964  \n",
            "4    South      331  \n",
            "..     ...      ...  \n",
            "395  South      560  \n",
            "396   East      480  \n",
            "397  South      138  \n",
            "398  South        0  \n",
            "399   West      966  \n",
            "\n",
            "[400 rows x 11 columns]\n",
            "\n",
            "Checking NULL values:\n",
            " Income       0\n",
            "Limit        0\n",
            "Rating       0\n",
            "Cards        0\n",
            "Age          0\n",
            "Education    0\n",
            "Own          0\n",
            "Student      0\n",
            "Married      0\n",
            "Region       0\n",
            "Balance      0\n",
            "dtype: int64\n"
          ]
        }
      ],
      "source": [
        "#include libraries\n",
        "import numpy as np\n",
        "import pandas as pd\n",
        "import matplotlib.pyplot as plt\n",
        "\n",
        "#load data and checking contents\n",
        "data = pd.read_csv(\"DT-Credit.csv\")\n",
        "print(data)\n",
        "\n",
        "#check for null values\n",
        "print(\"\\nChecking NULL values:\\n\",data.isnull().sum())"
      ]
    },
    {
      "cell_type": "code",
      "source": [
        "#preprocessing data\n",
        "categorical_cols = data.select_dtypes(include=['object']).columns.tolist()\n",
        "print(\"Categorical Columns:\", categorical_cols)\n",
        "print(\"\\n\")\n",
        "\n",
        "data = pd.get_dummies(data, columns=categorical_cols, drop_first=True)\n",
        "\n",
        "print(data)"
      ],
      "metadata": {
        "colab": {
          "base_uri": "https://localhost:8080/"
        },
        "id": "2cASk31TLIJA",
        "outputId": "bf3758da-dfda-4634-8cef-c9c6b66a2a71"
      },
      "execution_count": 2,
      "outputs": [
        {
          "output_type": "stream",
          "name": "stdout",
          "text": [
            "Categorical Columns: ['Own', 'Student', 'Married', 'Region']\n",
            "\n",
            "\n",
            "      Income  Limit  Rating  Cards  Age  Education  Balance  Own_Yes  \\\n",
            "0     14.891   3606     283      2   34         11      333    False   \n",
            "1    106.025   6645     483      3   82         15      903     True   \n",
            "2    104.593   7075     514      4   71         11      580    False   \n",
            "3    148.924   9504     681      3   36         11      964     True   \n",
            "4     55.882   4897     357      2   68         16      331    False   \n",
            "..       ...    ...     ...    ...  ...        ...      ...      ...   \n",
            "395   12.096   4100     307      3   32         13      560    False   \n",
            "396   13.364   3838     296      5   65         17      480    False   \n",
            "397   57.872   4171     321      5   67         12      138     True   \n",
            "398   37.728   2525     192      1   44         13        0    False   \n",
            "399   18.701   5524     415      5   64          7      966     True   \n",
            "\n",
            "     Student_Yes  Married_Yes  Region_South  Region_West  \n",
            "0          False         True          True        False  \n",
            "1           True         True         False         True  \n",
            "2          False        False         False         True  \n",
            "3          False        False         False         True  \n",
            "4          False         True          True        False  \n",
            "..           ...          ...           ...          ...  \n",
            "395        False         True          True        False  \n",
            "396        False        False         False        False  \n",
            "397        False         True          True        False  \n",
            "398        False         True          True        False  \n",
            "399        False        False         False         True  \n",
            "\n",
            "[400 rows x 12 columns]\n"
          ]
        }
      ]
    },
    {
      "cell_type": "code",
      "source": [
        "#selecting target variable and features\n",
        "X = data.drop(['Balance'], axis = 1)\n",
        "y = data['Balance']\n",
        "\n",
        "#splitting data for training, validating and testing\n",
        "X_train = X.iloc[:280]\n",
        "X_validation = X.iloc[280:340]\n",
        "X_test = X.iloc[340:]\n",
        "print(X_validation)\n",
        "y_train = y.iloc[:280]\n",
        "y_validation = y.iloc[280:340]\n",
        "y_test = y.iloc[340:]"
      ],
      "metadata": {
        "colab": {
          "base_uri": "https://localhost:8080/"
        },
        "id": "2q15Tw4jLO_Q",
        "outputId": "0de21674-786b-429b-de09-50b2a7b0c0f6"
      },
      "execution_count": 11,
      "outputs": [
        {
          "output_type": "stream",
          "name": "stdout",
          "text": [
            "      Income  Limit  Rating  Cards  Age  Education  Own_Yes  Student_Yes  \\\n",
            "280   53.401   5319     377      3   35         12     True        False   \n",
            "281   36.142   1852     183      3   33         13     True        False   \n",
            "282   63.534   8100     581      2   50         17     True        False   \n",
            "283   49.927   6396     485      3   75         17     True        False   \n",
            "284   14.711   2047     167      2   67          6    False        False   \n",
            "285   18.967   1626     156      2   41         11     True        False   \n",
            "286   18.036   1552     142      2   48         15     True        False   \n",
            "287   60.449   3098     272      4   69          8    False        False   \n",
            "288   16.711   5274     387      3   42         16     True        False   \n",
            "289   10.852   3907     296      2   30          9    False        False   \n",
            "290   26.370   3235     268      5   78         11    False        False   \n",
            "291   24.088   3665     287      4   56         13     True        False   \n",
            "292   51.532   5096     380      2   31         15    False        False   \n",
            "293  140.672  11200     817      7   46          9    False        False   \n",
            "294   42.915   2532     205      4   42         13    False        False   \n",
            "295   27.272   1389     149      5   67         10     True        False   \n",
            "296   65.896   5140     370      1   49         17     True        False   \n",
            "297   55.054   4381     321      3   74         17    False        False   \n",
            "298   20.791   2672     204      1   70         18     True        False   \n",
            "299   24.919   5051     372      3   76         11     True        False   \n",
            "300   21.786   4632     355      1   50         17    False        False   \n",
            "301   31.335   3526     289      3   38          7     True        False   \n",
            "302   59.855   4964     365      1   46         13     True        False   \n",
            "303   44.061   4970     352      1   79         11    False        False   \n",
            "304   82.706   7506     536      2   64         13     True        False   \n",
            "305   24.460   1924     165      2   50         14     True        False   \n",
            "306   45.120   3762     287      3   80          8    False        False   \n",
            "307   75.406   3874     298      3   41         14     True        False   \n",
            "308   14.956   4640     332      2   33          6    False        False   \n",
            "309   75.257   7010     494      3   34         18     True        False   \n",
            "310   33.694   4891     369      1   52         16    False         True   \n",
            "311   23.375   5429     396      3   57         15     True        False   \n",
            "312   27.825   5227     386      6   63         11    False        False   \n",
            "313   92.386   7685     534      2   75         18     True        False   \n",
            "314  115.520   9272     656      2   69         14    False        False   \n",
            "315   14.479   3907     296      3   43         16    False        False   \n",
            "316   52.179   7306     522      2   57         14    False        False   \n",
            "317   68.462   4712     340      2   71         16    False        False   \n",
            "318   18.951   1485     129      3   82         13     True        False   \n",
            "319   27.590   2586     229      5   54         16    False        False   \n",
            "320   16.279   1160     126      3   78         13    False         True   \n",
            "321   25.078   3096     236      2   27         15     True        False   \n",
            "322   27.229   3484     282      6   51         11    False        False   \n",
            "323  182.728  13913     982      4   98         17    False        False   \n",
            "324   31.029   2863     223      2   66         17    False         True   \n",
            "325   17.765   5072     364      1   66         12     True        False   \n",
            "326  125.480  10230     721      3   82         16    False        False   \n",
            "327   49.166   6662     508      3   68         14     True        False   \n",
            "328   41.192   3673     297      3   54         16     True        False   \n",
            "329   94.193   7576     527      2   44         16     True        False   \n",
            "330   20.405   4543     329      2   72         17    False         True   \n",
            "331   12.581   3976     291      2   48         16    False        False   \n",
            "332   62.328   5228     377      3   83         15    False        False   \n",
            "333   21.011   3402     261      2   68         17    False        False   \n",
            "334   24.230   4756     351      2   64         15     True        False   \n",
            "335   24.314   3409     270      2   23          7     True        False   \n",
            "336   32.856   5884     438      4   68         13    False        False   \n",
            "337   12.414    855     119      3   32         12    False        False   \n",
            "338   41.365   5303     377      1   45         14    False        False   \n",
            "339  149.316  10278     707      1   80         16    False        False   \n",
            "\n",
            "     Married_Yes  Region_South  Region_West  \n",
            "280        False         False        False  \n",
            "281        False         False        False  \n",
            "282         True          True        False  \n",
            "283         True          True        False  \n",
            "284         True          True        False  \n",
            "285         True         False         True  \n",
            "286        False          True        False  \n",
            "287         True          True        False  \n",
            "288         True         False         True  \n",
            "289        False          True        False  \n",
            "290         True         False         True  \n",
            "291         True          True        False  \n",
            "292         True          True        False  \n",
            "293         True         False        False  \n",
            "294         True         False         True  \n",
            "295         True          True        False  \n",
            "296         True          True        False  \n",
            "297         True         False         True  \n",
            "298        False         False        False  \n",
            "299         True         False        False  \n",
            "300         True          True        False  \n",
            "301        False          True        False  \n",
            "302         True          True        False  \n",
            "303         True         False        False  \n",
            "304         True         False         True  \n",
            "305         True         False         True  \n",
            "306         True          True        False  \n",
            "307         True         False         True  \n",
            "308        False         False         True  \n",
            "309         True          True        False  \n",
            "310        False         False        False  \n",
            "311         True          True        False  \n",
            "312         True          True        False  \n",
            "313         True         False         True  \n",
            "314        False         False        False  \n",
            "315         True          True        False  \n",
            "316        False         False         True  \n",
            "317         True          True        False  \n",
            "318        False          True        False  \n",
            "319         True         False        False  \n",
            "320         True         False        False  \n",
            "321         True          True        False  \n",
            "322        False          True        False  \n",
            "323         True          True        False  \n",
            "324         True         False         True  \n",
            "325         True          True        False  \n",
            "326         True          True        False  \n",
            "327        False         False         True  \n",
            "328         True          True        False  \n",
            "329         True          True        False  \n",
            "330        False         False         True  \n",
            "331         True          True        False  \n",
            "332        False          True        False  \n",
            "333         True         False        False  \n",
            "334         True          True        False  \n",
            "335         True          True        False  \n",
            "336        False          True        False  \n",
            "337         True         False        False  \n",
            "338        False          True        False  \n",
            "339        False         False        False  \n"
          ]
        }
      ]
    },
    {
      "cell_type": "markdown",
      "source": [
        "### **Evaluation Metrics**"
      ],
      "metadata": {
        "id": "SxOsfnGlLnSS"
      }
    },
    {
      "cell_type": "code",
      "source": [
        "def mean_sq_error(y_true, y_pred):\n",
        "  if len(y_true) != len(y_pred):\n",
        "    raise ValueError(\"Lengths of y_true and y_pred must be the same.\")\n",
        "\n",
        "  # Calculate the squared differences between true and predicted values\n",
        "  squared_errors = [(true - pred) ** 2 for true, pred in zip(y_true, y_pred)]\n",
        "\n",
        "  # Calculate the mean of squared errors\n",
        "  mse = sum(squared_errors) / len(y_true)\n",
        "\n",
        "  return mse"
      ],
      "metadata": {
        "id": "FmlHdtvOLp1-"
      },
      "execution_count": 12,
      "outputs": []
    },
    {
      "cell_type": "markdown",
      "source": [
        "### **Decision Tree**"
      ],
      "metadata": {
        "id": "yTonvenLLspa"
      }
    },
    {
      "cell_type": "code",
      "source": [
        "#Training the dataset\n",
        "from sklearn.tree import DecisionTreeRegressor\n",
        "\n",
        "#Define the Decision Tree Classifier\n",
        "dt_regressor = DecisionTreeRegressor()\n",
        "\n",
        "dt = dt_regressor.fit(X_train, y_train)"
      ],
      "metadata": {
        "id": "g8rzYj-VLrug"
      },
      "execution_count": 13,
      "outputs": []
    },
    {
      "cell_type": "code",
      "source": [
        "#Validating the model using validation set\n",
        "y_pred = dt.predict(X_validation)\n",
        "\n",
        "mse = mean_sq_error(y_validation, y_pred)\n",
        "print('Mean Squared Error: ', mse)"
      ],
      "metadata": {
        "colab": {
          "base_uri": "https://localhost:8080/"
        },
        "id": "g0hkEY8PL0C_",
        "outputId": "643ef2e0-680d-43c7-b81e-7bcf6b6993a5"
      },
      "execution_count": 14,
      "outputs": [
        {
          "output_type": "stream",
          "name": "stdout",
          "text": [
            "Mean Squared Error:  17886.0\n"
          ]
        }
      ]
    },
    {
      "cell_type": "code",
      "source": [
        "#Validating\n",
        "from sklearn.model_selection import GridSearchCV\n",
        "from sklearn.metrics import mean_squared_error, make_scorer\n",
        "\n",
        "# Define the hyperparameter grid for grid search\n",
        "param_grid = {\n",
        "    'max_depth': [None, 3, 5, 7, 10],\n",
        "    'min_samples_split': [2, 5, 10],\n",
        "    'min_samples_leaf': [1, 2, 4]\n",
        "}\n",
        "\n",
        "scoring = make_scorer(mean_squared_error, greater_is_better=False)\n",
        "\n",
        "# Initialize GridSearchCV with cross-validation (e.g., 5-fold)\n",
        "grid_search = GridSearchCV(estimator=dt_regressor, param_grid=param_grid, scoring=scoring, cv=5)\n",
        "\n",
        "# Fit GridSearchCV on the combined training and validation sets\n",
        "X_train_new = X.iloc[:2550]\n",
        "y_train_new = y.iloc[:2550]\n",
        "grid_search.fit(X_train_new, y_train_new)\n",
        "\n",
        "# Get the best model on the test set\n",
        "best_dt_model = grid_search.best_estimator_\n",
        "\n",
        "print(best_dt_model)"
      ],
      "metadata": {
        "colab": {
          "base_uri": "https://localhost:8080/"
        },
        "id": "gHCXmFsrMM8G",
        "outputId": "0e8f7437-8b5e-475f-b4e7-54c5ac4a7271"
      },
      "execution_count": 15,
      "outputs": [
        {
          "output_type": "stream",
          "name": "stdout",
          "text": [
            "DecisionTreeRegressor(max_depth=10, min_samples_leaf=2)\n"
          ]
        }
      ]
    },
    {
      "cell_type": "code",
      "source": [
        "#Testing best model using test set\n",
        "y_pred = best_dt_model.predict(X_test)\n",
        "\n",
        "mse = mean_sq_error(y_test, y_pred)\n",
        "print('Mean Squared Error: ', mse)"
      ],
      "metadata": {
        "colab": {
          "base_uri": "https://localhost:8080/"
        },
        "id": "kwXe8xxHMPFG",
        "outputId": "e2af6676-8c1b-4f12-b431-537ba28adabc"
      },
      "execution_count": 16,
      "outputs": [
        {
          "output_type": "stream",
          "name": "stdout",
          "text": [
            "Mean Squared Error:  1642.9366240412012\n"
          ]
        }
      ]
    },
    {
      "cell_type": "markdown",
      "source": [
        "### **XGB Regressor**"
      ],
      "metadata": {
        "id": "N1zB-85lMmER"
      }
    },
    {
      "cell_type": "code",
      "source": [
        "#Training the dataset\n",
        "import xgboost as xgb\n",
        "\n",
        "#Define the XGBRegressor\n",
        "xgb_regressor = xgb.XGBRegressor(objective='reg:squarederror', random_state=42)\n",
        "\n",
        "xgbr = xgb_regressor.fit(X_train, y_train)"
      ],
      "metadata": {
        "id": "k7Dtayy9Mpkd"
      },
      "execution_count": 17,
      "outputs": []
    },
    {
      "cell_type": "code",
      "source": [
        "#Validating the model using validation set\n",
        "y_pred = dt.predict(X_validation)\n",
        "\n",
        "mse = mean_sq_error(y_validation, y_pred)\n",
        "print('Mean Squared Error: ', mse)"
      ],
      "metadata": {
        "colab": {
          "base_uri": "https://localhost:8080/"
        },
        "id": "AegXrg2-MrmV",
        "outputId": "e860f747-395b-42e2-bcd3-e28743ee6c98"
      },
      "execution_count": 18,
      "outputs": [
        {
          "output_type": "stream",
          "name": "stdout",
          "text": [
            "Mean Squared Error:  17886.0\n"
          ]
        }
      ]
    },
    {
      "cell_type": "code",
      "source": [
        "#Validating\n",
        "#Define the hyperparameter grid for grid searching\n",
        "param_grid = {\n",
        "    'max_depth': [3, 5, 7],\n",
        "    'learning_rate': [0.1, 0.01, 0.001],\n",
        "    'n_estimators': [100, 200, 300]\n",
        "}\n",
        "\n",
        "grid_search = GridSearchCV(estimator=xgb_regressor, param_grid=param_grid, cv=3,\n",
        "                           scoring='neg_mean_squared_error')\n",
        "grid_search.fit(X_train_new, y_train_new)\n",
        "\n",
        "# Get the best XGBClassifier model from GridSearchCV\n",
        "best_xgb_model = grid_search.best_estimator_\n",
        "\n",
        "print(best_xgb_model)"
      ],
      "metadata": {
        "colab": {
          "base_uri": "https://localhost:8080/"
        },
        "id": "qd_VBVBCMwhd",
        "outputId": "ca3b44e4-8f0c-49e7-c1de-f121eb3beee9"
      },
      "execution_count": 19,
      "outputs": [
        {
          "output_type": "stream",
          "name": "stdout",
          "text": [
            "XGBRegressor(base_score=None, booster=None, callbacks=None,\n",
            "             colsample_bylevel=None, colsample_bynode=None,\n",
            "             colsample_bytree=None, device=None, early_stopping_rounds=None,\n",
            "             enable_categorical=False, eval_metric=None, feature_types=None,\n",
            "             gamma=None, grow_policy=None, importance_type=None,\n",
            "             interaction_constraints=None, learning_rate=0.1, max_bin=None,\n",
            "             max_cat_threshold=None, max_cat_to_onehot=None,\n",
            "             max_delta_step=None, max_depth=3, max_leaves=None,\n",
            "             min_child_weight=None, missing=nan, monotone_constraints=None,\n",
            "             multi_strategy=None, n_estimators=300, n_jobs=None,\n",
            "             num_parallel_tree=None, random_state=42, ...)\n"
          ]
        }
      ]
    },
    {
      "cell_type": "code",
      "source": [
        "#Testing best model using test set\n",
        "y_pred = best_xgb_model.predict(X_test)\n",
        "\n",
        "mse = mean_sq_error(y_test, y_pred)\n",
        "print('Mean Squared Error: ', mse)"
      ],
      "metadata": {
        "colab": {
          "base_uri": "https://localhost:8080/"
        },
        "id": "TjnOhkTLMyfW",
        "outputId": "653973be-62e9-49f3-9bfa-b85387fd7f96"
      },
      "execution_count": 20,
      "outputs": [
        {
          "output_type": "stream",
          "name": "stdout",
          "text": [
            "Mean Squared Error:  214.41414806754548\n"
          ]
        }
      ]
    }
  ]
}