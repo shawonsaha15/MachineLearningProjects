{
  "nbformat": 4,
  "nbformat_minor": 0,
  "metadata": {
    "colab": {
      "provenance": []
    },
    "kernelspec": {
      "name": "python3",
      "display_name": "Python 3"
    },
    "language_info": {
      "name": "python"
    }
  },
  "cells": [
    {
      "cell_type": "code",
      "execution_count": null,
      "metadata": {
        "id": "v6wv7TSR7iIj"
      },
      "outputs": [],
      "source": [
        "# Swapnil Saha Shawon (2022533042)\n",
        "# Tamanna Rahman (2021450642)\n",
        "# Syeda Mashiat Tabassum (2031356642)"
      ]
    },
    {
      "cell_type": "markdown",
      "source": [
        "## **Wage Dataset**"
      ],
      "metadata": {
        "id": "2p_-CH357pZY"
      }
    },
    {
      "cell_type": "code",
      "source": [
        "#include libraries\n",
        "import numpy as np\n",
        "import pandas as pd\n",
        "import matplotlib.pyplot as plt\n",
        "\n",
        "#load data and checking contents\n",
        "data = pd.read_csv(\"DT-Wage.csv\")\n",
        "print(data)\n",
        "\n",
        "#check for null values\n",
        "print(\"\\nChecking NULL values:\\n\",data.isnull().sum())"
      ],
      "metadata": {
        "colab": {
          "base_uri": "https://localhost:8080/"
        },
        "id": "4jrUkIba7qIG",
        "outputId": "b58bd51f-1a91-489a-aedb-375dc19daf4b"
      },
      "execution_count": null,
      "outputs": [
        {
          "output_type": "stream",
          "name": "stdout",
          "text": [
            "      year  age            maritl      race        education  \\\n",
            "0     2006   18  1. Never Married  1. White     1. < HS Grad   \n",
            "1     2004   24  1. Never Married  1. White  4. College Grad   \n",
            "2     2003   45        2. Married  1. White  3. Some College   \n",
            "3     2003   43        2. Married  3. Asian  4. College Grad   \n",
            "4     2005   50       4. Divorced  1. White       2. HS Grad   \n",
            "...    ...  ...               ...       ...              ...   \n",
            "2995  2008   44        2. Married  1. White  3. Some College   \n",
            "2996  2007   30        2. Married  1. White       2. HS Grad   \n",
            "2997  2005   27        2. Married  2. Black     1. < HS Grad   \n",
            "2998  2005   27  1. Never Married  1. White  3. Some College   \n",
            "2999  2009   55      5. Separated  1. White       2. HS Grad   \n",
            "\n",
            "                  region        jobclass          health health_ins   logwage  \\\n",
            "0     2. Middle Atlantic   1. Industrial       1. <=Good      2. No  4.318063   \n",
            "1     2. Middle Atlantic  2. Information  2. >=Very Good      2. No  4.255273   \n",
            "2     2. Middle Atlantic   1. Industrial       1. <=Good     1. Yes  4.875061   \n",
            "3     2. Middle Atlantic  2. Information  2. >=Very Good     1. Yes  5.041393   \n",
            "4     2. Middle Atlantic  2. Information       1. <=Good     1. Yes  4.318063   \n",
            "...                  ...             ...             ...        ...       ...   \n",
            "2995  2. Middle Atlantic   1. Industrial  2. >=Very Good     1. Yes  5.041393   \n",
            "2996  2. Middle Atlantic   1. Industrial  2. >=Very Good      2. No  4.602060   \n",
            "2997  2. Middle Atlantic   1. Industrial       1. <=Good      2. No  4.193125   \n",
            "2998  2. Middle Atlantic   1. Industrial  2. >=Very Good     1. Yes  4.477121   \n",
            "2999  2. Middle Atlantic   1. Industrial       1. <=Good     1. Yes  4.505150   \n",
            "\n",
            "            wage  \n",
            "0      75.043154  \n",
            "1      70.476020  \n",
            "2     130.982177  \n",
            "3     154.685293  \n",
            "4      75.043154  \n",
            "...          ...  \n",
            "2995  154.685293  \n",
            "2996   99.689464  \n",
            "2997   66.229408  \n",
            "2998   87.981033  \n",
            "2999   90.481913  \n",
            "\n",
            "[3000 rows x 11 columns]\n",
            "\n",
            "Checking NULL values:\n",
            " year          0\n",
            "age           0\n",
            "maritl        0\n",
            "race          0\n",
            "education     0\n",
            "region        0\n",
            "jobclass      0\n",
            "health        0\n",
            "health_ins    0\n",
            "logwage       0\n",
            "wage          0\n",
            "dtype: int64\n"
          ]
        }
      ]
    },
    {
      "cell_type": "code",
      "source": [
        "#preprocessing data\n",
        "categorical_cols = data.select_dtypes(include=['object']).columns.tolist()\n",
        "print(\"Categorical Columns:\", categorical_cols)\n",
        "print(\"\\n\")\n",
        "\n",
        "data = pd.get_dummies(data, columns=categorical_cols, drop_first=True)\n",
        "\n",
        "print(data)"
      ],
      "metadata": {
        "colab": {
          "base_uri": "https://localhost:8080/"
        },
        "id": "0A4EboZ47tz-",
        "outputId": "a8767e69-ae25-48ac-e02e-20f7e096b6ee"
      },
      "execution_count": null,
      "outputs": [
        {
          "output_type": "stream",
          "name": "stdout",
          "text": [
            "Categorical Columns: ['maritl', 'race', 'education', 'region', 'jobclass', 'health', 'health_ins']\n",
            "\n",
            "\n",
            "      year  age   logwage        wage  maritl_2. Married  maritl_3. Widowed  \\\n",
            "0     2006   18  4.318063   75.043154              False              False   \n",
            "1     2004   24  4.255273   70.476020              False              False   \n",
            "2     2003   45  4.875061  130.982177               True              False   \n",
            "3     2003   43  5.041393  154.685293               True              False   \n",
            "4     2005   50  4.318063   75.043154              False              False   \n",
            "...    ...  ...       ...         ...                ...                ...   \n",
            "2995  2008   44  5.041393  154.685293               True              False   \n",
            "2996  2007   30  4.602060   99.689464               True              False   \n",
            "2997  2005   27  4.193125   66.229408               True              False   \n",
            "2998  2005   27  4.477121   87.981033              False              False   \n",
            "2999  2009   55  4.505150   90.481913              False              False   \n",
            "\n",
            "      maritl_4. Divorced  maritl_5. Separated  race_2. Black  race_3. Asian  \\\n",
            "0                  False                False          False          False   \n",
            "1                  False                False          False          False   \n",
            "2                  False                False          False          False   \n",
            "3                  False                False          False           True   \n",
            "4                   True                False          False          False   \n",
            "...                  ...                  ...            ...            ...   \n",
            "2995               False                False          False          False   \n",
            "2996               False                False          False          False   \n",
            "2997               False                False           True          False   \n",
            "2998               False                False          False          False   \n",
            "2999               False                 True          False          False   \n",
            "\n",
            "      race_4. Other  education_2. HS Grad  education_3. Some College  \\\n",
            "0             False                 False                      False   \n",
            "1             False                 False                      False   \n",
            "2             False                 False                       True   \n",
            "3             False                 False                      False   \n",
            "4             False                  True                      False   \n",
            "...             ...                   ...                        ...   \n",
            "2995          False                 False                       True   \n",
            "2996          False                  True                      False   \n",
            "2997          False                 False                      False   \n",
            "2998          False                 False                       True   \n",
            "2999          False                  True                      False   \n",
            "\n",
            "      education_4. College Grad  education_5. Advanced Degree  \\\n",
            "0                         False                         False   \n",
            "1                          True                         False   \n",
            "2                         False                         False   \n",
            "3                          True                         False   \n",
            "4                         False                         False   \n",
            "...                         ...                           ...   \n",
            "2995                      False                         False   \n",
            "2996                      False                         False   \n",
            "2997                      False                         False   \n",
            "2998                      False                         False   \n",
            "2999                      False                         False   \n",
            "\n",
            "      jobclass_2. Information  health_2. >=Very Good  health_ins_2. No  \n",
            "0                       False                  False              True  \n",
            "1                        True                   True              True  \n",
            "2                       False                  False             False  \n",
            "3                        True                   True             False  \n",
            "4                        True                  False             False  \n",
            "...                       ...                    ...               ...  \n",
            "2995                    False                   True             False  \n",
            "2996                    False                   True              True  \n",
            "2997                    False                  False              True  \n",
            "2998                    False                   True             False  \n",
            "2999                    False                  False             False  \n",
            "\n",
            "[3000 rows x 18 columns]\n"
          ]
        }
      ]
    },
    {
      "cell_type": "code",
      "source": [
        "#selecting target variable and features\n",
        "X = data.drop(['wage'], axis = 1)\n",
        "y = data['wage']\n",
        "\n",
        "#splitting data for training, validating and testing\n",
        "X_train = X.iloc[:2100]\n",
        "X_validation = X.iloc[2100:2550]\n",
        "X_test = X.iloc[2550:]\n",
        "print(X_validation)\n",
        "y_train = y.iloc[:2100]\n",
        "y_validation = y.iloc[2100:2550]\n",
        "y_test = y.iloc[2550:]"
      ],
      "metadata": {
        "colab": {
          "base_uri": "https://localhost:8080/"
        },
        "id": "HKdmkugl7yAl",
        "outputId": "352cdc8d-da65-4c2a-fe40-42142d08c8bf"
      },
      "execution_count": null,
      "outputs": [
        {
          "output_type": "stream",
          "name": "stdout",
          "text": [
            "      year  age   logwage  maritl_2. Married  maritl_3. Widowed  \\\n",
            "2100  2008   43  4.477121              False              False   \n",
            "2101  2008   42  5.176091               True              False   \n",
            "2102  2005   51  5.243038               True              False   \n",
            "2103  2007   49  4.380211              False              False   \n",
            "2104  2006   48  4.711200               True              False   \n",
            "...    ...  ...       ...                ...                ...   \n",
            "2545  2008   23  4.591087              False              False   \n",
            "2546  2006   46  4.973128              False              False   \n",
            "2547  2005   61  4.913814               True              False   \n",
            "2548  2007   70  4.612784               True              False   \n",
            "2549  2009   59  4.342423               True              False   \n",
            "\n",
            "      maritl_4. Divorced  maritl_5. Separated  race_2. Black  race_3. Asian  \\\n",
            "2100               False                False          False          False   \n",
            "2101               False                False          False          False   \n",
            "2102               False                False          False          False   \n",
            "2103               False                False          False          False   \n",
            "2104               False                False          False          False   \n",
            "...                  ...                  ...            ...            ...   \n",
            "2545               False                False          False          False   \n",
            "2546                True                False          False          False   \n",
            "2547               False                False          False          False   \n",
            "2548               False                False          False          False   \n",
            "2549               False                False          False          False   \n",
            "\n",
            "      race_4. Other  education_2. HS Grad  education_3. Some College  \\\n",
            "2100          False                  True                      False   \n",
            "2101          False                 False                      False   \n",
            "2102          False                 False                      False   \n",
            "2103          False                 False                      False   \n",
            "2104          False                  True                      False   \n",
            "...             ...                   ...                        ...   \n",
            "2545          False                 False                       True   \n",
            "2546          False                 False                       True   \n",
            "2547          False                 False                      False   \n",
            "2548          False                 False                      False   \n",
            "2549          False                  True                      False   \n",
            "\n",
            "      education_4. College Grad  education_5. Advanced Degree  \\\n",
            "2100                      False                         False   \n",
            "2101                      False                          True   \n",
            "2102                       True                         False   \n",
            "2103                       True                         False   \n",
            "2104                      False                         False   \n",
            "...                         ...                           ...   \n",
            "2545                      False                         False   \n",
            "2546                      False                         False   \n",
            "2547                       True                         False   \n",
            "2548                      False                         False   \n",
            "2549                      False                         False   \n",
            "\n",
            "      jobclass_2. Information  health_2. >=Very Good  health_ins_2. No  \n",
            "2100                     True                  False             False  \n",
            "2101                    False                   True             False  \n",
            "2102                     True                   True             False  \n",
            "2103                     True                   True             False  \n",
            "2104                     True                   True             False  \n",
            "...                       ...                    ...               ...  \n",
            "2545                    False                  False              True  \n",
            "2546                     True                   True             False  \n",
            "2547                    False                  False             False  \n",
            "2548                     True                   True              True  \n",
            "2549                    False                  False             False  \n",
            "\n",
            "[450 rows x 17 columns]\n"
          ]
        }
      ]
    },
    {
      "cell_type": "markdown",
      "source": [
        "### **Evaluation Metrics**"
      ],
      "metadata": {
        "id": "UWD6ldwI74UV"
      }
    },
    {
      "cell_type": "code",
      "source": [
        "def mean_sq_error(y_true, y_pred):\n",
        "  if len(y_true) != len(y_pred):\n",
        "    raise ValueError(\"Lengths of y_true and y_pred must be the same.\")\n",
        "\n",
        "  # Calculate the squared differences between true and predicted values\n",
        "  squared_errors = [(true - pred) ** 2 for true, pred in zip(y_true, y_pred)]\n",
        "\n",
        "  # Calculate the mean of squared errors\n",
        "  mse = sum(squared_errors) / len(y_true)\n",
        "\n",
        "  return mse"
      ],
      "metadata": {
        "id": "dzsKN_BT749F"
      },
      "execution_count": null,
      "outputs": []
    },
    {
      "cell_type": "markdown",
      "source": [
        "### **Support vector regression (SVR)**"
      ],
      "metadata": {
        "id": "b40Cc4nz79fd"
      }
    },
    {
      "cell_type": "code",
      "source": [
        "#Training the dataset\n",
        "from sklearn.svm import SVR\n",
        "\n",
        "#Define the Support Vector Regressors\n",
        "svr_rbf = SVR(kernel='rbf', C=100, gamma=0.1, epsilon=.1)\n",
        "svr_lin = SVR(kernel='linear', C=100, epsilon=.1)\n",
        "svr_poly = SVR(kernel='poly', C=100, degree=3, epsilon=.1, coef0=1)\n",
        "\n",
        "svr_rbf_trained = svr_rbf.fit(X_train, y_train)\n",
        "svr_lin_trained = svr_lin.fit(X_train, y_train)\n",
        "svr_poly_trained = svr_poly.fit(X_train, y_train)\n",
        "\n"
      ],
      "metadata": {
        "id": "t-5VgewT8AlG"
      },
      "execution_count": null,
      "outputs": []
    },
    {
      "cell_type": "code",
      "source": [
        "#Validating the model using training set\n",
        "y_rbf_pred = svr_rbf_trained.predict(X_train)\n",
        "y_lin_pred = svr_lin_trained.predict(X_train)\n",
        "y_poly_pred = svr_poly_trained.predict(X_train)\n",
        "\n",
        "mse = mean_sq_error(y_train, y_rbf_pred)\n",
        "print('Rbf SVR Mean Squared Error: ', mse)\n",
        "mse = mean_sq_error(y_train, y_lin_pred)\n",
        "print('Lin SVR Mean Squared Error: ', mse)\n",
        "mse = mean_sq_error(y_train, y_poly_pred)\n",
        "print('Poly SVR Mean Squared Error: ', mse)"
      ],
      "metadata": {
        "colab": {
          "base_uri": "https://localhost:8080/"
        },
        "id": "S-boZ4dr8h89",
        "outputId": "2a4c4619-fee9-4074-8208-ae4a69dc2556"
      },
      "execution_count": null,
      "outputs": [
        {
          "output_type": "stream",
          "name": "stdout",
          "text": [
            "Rbf SVR Mean Squared Error:  72.97953401654938\n",
            "Lin SVR Mean Squared Error:  1076243.1517674015\n",
            "Poly SVR Mean Squared Error:  1658.44398310714\n"
          ]
        }
      ]
    },
    {
      "cell_type": "code",
      "source": [
        "#Validating the model using validation set\n",
        "y_rbf_pred = svr_rbf_trained.predict(X_validation)\n",
        "y_lin_pred = svr_lin_trained.predict(X_validation)\n",
        "y_poly_pred = svr_poly_trained.predict(X_validation)\n",
        "\n",
        "mse = mean_sq_error(y_validation, y_rbf_pred)\n",
        "print('Rbf SVR Mean Squared Error: ', mse)\n",
        "mse = mean_sq_error(y_validation, y_lin_pred)\n",
        "print('Lin SVR Mean Squared Error: ', mse)\n",
        "mse = mean_sq_error(y_validation, y_poly_pred)\n",
        "print('Poly SVR Mean Squared Error: ', mse)"
      ],
      "metadata": {
        "id": "pYZ0YvT8_gY6",
        "colab": {
          "base_uri": "https://localhost:8080/"
        },
        "outputId": "8d861c88-705c-4948-f854-b70d333e2264"
      },
      "execution_count": null,
      "outputs": [
        {
          "output_type": "stream",
          "name": "stdout",
          "text": [
            "Rbf SVR Mean Squared Error:  186.77483558358375\n",
            "Lin SVR Mean Squared Error:  1020920.0379212433\n",
            "Poly SVR Mean Squared Error:  1955.73528808665\n"
          ]
        }
      ]
    },
    {
      "cell_type": "code",
      "source": [
        "#Using the best model to evaluate the test set\n",
        "y_rbf_pred = svr_rbf_trained.predict(X_test)\n",
        "\n",
        "mse = mean_sq_error(y_test, y_rbf_pred)\n",
        "print('SVR Mean Squared Error: ', mse)"
      ],
      "metadata": {
        "colab": {
          "base_uri": "https://localhost:8080/"
        },
        "id": "BTFvS9aXhgu4",
        "outputId": "c90283ad-1fdb-4905-fcef-4551de1a4842"
      },
      "execution_count": null,
      "outputs": [
        {
          "output_type": "stream",
          "name": "stdout",
          "text": [
            "SVR Mean Squared Error:  174.27242421912928\n"
          ]
        }
      ]
    }
  ]
}