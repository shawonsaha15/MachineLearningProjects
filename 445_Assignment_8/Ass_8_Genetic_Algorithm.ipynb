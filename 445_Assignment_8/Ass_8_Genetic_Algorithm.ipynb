{
  "nbformat": 4,
  "nbformat_minor": 0,
  "metadata": {
    "colab": {
      "provenance": []
    },
    "kernelspec": {
      "name": "python3",
      "display_name": "Python 3"
    },
    "language_info": {
      "name": "python"
    }
  },
  "cells": [
    {
      "cell_type": "code",
      "execution_count": null,
      "metadata": {
        "id": "uVlMg5iO7hbw"
      },
      "outputs": [],
      "source": [
        "# Swapnil Saha Shawon (2022533042)\n",
        "# Tamanna Rahman (2021450642)\n",
        "# Syeda Mashiat Tabassum (2031356642)"
      ]
    },
    {
      "cell_type": "code",
      "source": [
        "#include libraries\n",
        "import numpy as np\n",
        "import pandas as pd\n",
        "import matplotlib.pyplot as plt\n",
        "\n",
        "#load data and checking contents\n",
        "data = pd.read_csv(\"car.data.csv\")\n",
        "print(data)\n",
        "\n",
        "#check for null values\n",
        "print(\"\\nChecking NULL values:\\n\",data.isnull().sum())"
      ],
      "metadata": {
        "id": "VQFgMquI78tE"
      },
      "execution_count": null,
      "outputs": []
    },
    {
      "cell_type": "code",
      "source": [
        "#preprocessing data\n",
        "categorical_cols = data.select_dtypes(include=['object']).columns.tolist()\n",
        "print(\"Categorical Columns:\", categorical_cols)\n",
        "print(\"\\n\")\n",
        "\n",
        "#label encoding features\n",
        "from sklearn.preprocessing import LabelEncoder\n",
        "\n",
        "labelEncoder = LabelEncoder()\n",
        "\n",
        "for col in categorical_cols:\n",
        "  data[col] = labelEncoder.fit_transform(data[col])\n",
        "\n",
        "print(data)"
      ],
      "metadata": {
        "id": "sp1bXUBc8U5p"
      },
      "execution_count": null,
      "outputs": []
    },
    {
      "cell_type": "code",
      "source": [
        "#selecting target variable and features\n",
        "X = data.drop('class', axis = 1)\n",
        "y = data['class']\n",
        "\n",
        "#splitting data for training, validating and testing\n",
        "X_train = X.iloc[:1209]\n",
        "X_validation = X.iloc[1209:1468]\n",
        "X_test = X.iloc[1468:]\n",
        "print(X_validation)\n",
        "y_train = y.iloc[:1209]\n",
        "y_validation = y.iloc[1209:1468]\n",
        "y_test = y.iloc[1468:]"
      ],
      "metadata": {
        "id": "OW6RTKpU8ava"
      },
      "execution_count": null,
      "outputs": []
    },
    {
      "cell_type": "code",
      "source": [
        "import random\n",
        "import numpy as np\n",
        "from sklearn import datasets\n",
        "from sklearn.svm import SVC\n",
        "from sklearn.model_selection import train_test_split\n",
        "from sklearn.metrics import accuracy_score\n",
        "\n",
        "# Define the fitness function\n",
        "def fitness_function(params):\n",
        "    C, gamma = params\n",
        "    model = SVC(C=C, gamma=gamma)\n",
        "    model.fit(X_train, y_train)\n",
        "    y_pred = model.predict(X_test)\n",
        "    accuracy = accuracy_score(y_test, y_pred)\n",
        "    return accuracy\n",
        "\n",
        "# Create the initial population\n",
        "def create_population(size, param_ranges):\n",
        "    population = []\n",
        "    for _ in range(size):\n",
        "        individual = [random.uniform(*param_ranges[param]) for param in param_ranges]\n",
        "        population.append(individual)\n",
        "    return population\n",
        "\n",
        "# Evaluate the population\n",
        "def evaluate_population(population):\n",
        "    fitness_scores = [fitness_function(individual) for individual in population]\n",
        "    return fitness_scores\n",
        "\n",
        "# Select parents for crossover\n",
        "def select_parents(population, fitness_scores, num_parents):\n",
        "    selected = random.choices(population, weights=fitness_scores, k=num_parents)\n",
        "    return selected\n",
        "\n",
        "# Crossover between parents to create offspring\n",
        "def crossover(parents, offspring_size):\n",
        "    offspring = []\n",
        "    for _ in range(offspring_size):\n",
        "        parent1 = random.choice(parents)\n",
        "        parent2 = random.choice(parents)\n",
        "        child = [(p1 + p2) / 2 for p1, p2 in zip(parent1, parent2)]\n",
        "        offspring.append(child)\n",
        "    return offspring\n",
        "\n",
        "# Mutate the offspring\n",
        "def mutate(offspring, mutation_rate, param_ranges):\n",
        "    for individual in offspring:\n",
        "        if random.random() < mutation_rate:\n",
        "            param_idx = random.randint(0, len(individual) - 1)\n",
        "            individual[param_idx] = random.uniform(*param_ranges[param_ranges.keys()[param_idx]])\n",
        "    return offspring\n",
        "\n",
        "# Genetic algorithm\n",
        "def genetic_algorithm(pop_size, num_generations, mutation_rate, param_ranges):\n",
        "    population = create_population(pop_size, param_ranges)\n",
        "    for generation in range(num_generations):\n",
        "        fitness_scores = evaluate_population(population)\n",
        "        parents = select_parents(population, fitness_scores, pop_size // 2)\n",
        "        offspring = crossover(parents, pop_size - len(parents))\n",
        "        offspring = mutate(offspring, mutation_rate, param_ranges)\n",
        "        population = parents + offspring\n",
        "        best_individual = max(population, key=fitness_function)\n",
        "        best_fitness = fitness_function(best_individual)\n",
        "        print(f'Generation {generation}: Best Fitness = {best_fitness}, Best Individual = {best_individual}')\n",
        "    return best_individual, best_fitness\n",
        "\n",
        "# Parameters\n",
        "population_size = 20\n",
        "num_generations = 50\n",
        "mutation_rate = 0.1\n",
        "param_ranges = {\n",
        "    'C': (0.1, 100),\n",
        "    'gamma': (0.001, 1)\n",
        "}\n",
        "\n",
        "# Run the genetic algorithm\n",
        "best_params, best_accuracy = genetic_algorithm(population_size, num_generations,\n",
        "                                               mutation_rate, param_ranges)\n",
        "print(f'Best hyperparameters: C={best_params[0]}, gamma={best_params[1]}')\n",
        "print(f'Best accuracy: {best_accuracy}')\n"
      ],
      "metadata": {
        "id": "Ay_MbGiOHnHu"
      },
      "execution_count": null,
      "outputs": []
    }
  ]
}