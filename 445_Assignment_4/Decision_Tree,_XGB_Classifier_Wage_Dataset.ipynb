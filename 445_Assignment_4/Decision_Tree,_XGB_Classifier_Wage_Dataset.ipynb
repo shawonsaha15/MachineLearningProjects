{
  "nbformat": 4,
  "nbformat_minor": 0,
  "metadata": {
    "colab": {
      "provenance": []
    },
    "kernelspec": {
      "name": "python3",
      "display_name": "Python 3"
    },
    "language_info": {
      "name": "python"
    }
  },
  "cells": [
    {
      "cell_type": "markdown",
      "source": [
        "## **Wage Dataset**"
      ],
      "metadata": {
        "id": "0FEwGVwnMaMB"
      }
    },
    {
      "cell_type": "code",
      "execution_count": 2,
      "metadata": {
        "colab": {
          "base_uri": "https://localhost:8080/"
        },
        "id": "N_h5bqznL_MH",
        "outputId": "6c52d130-79e5-49a8-ba20-1406deaf3f15"
      },
      "outputs": [
        {
          "output_type": "stream",
          "name": "stdout",
          "text": [
            "      year  age            maritl      race        education  \\\n",
            "0     2006   18  1. Never Married  1. White     1. < HS Grad   \n",
            "1     2004   24  1. Never Married  1. White  4. College Grad   \n",
            "2     2003   45        2. Married  1. White  3. Some College   \n",
            "3     2003   43        2. Married  3. Asian  4. College Grad   \n",
            "4     2005   50       4. Divorced  1. White       2. HS Grad   \n",
            "...    ...  ...               ...       ...              ...   \n",
            "2995  2008   44        2. Married  1. White  3. Some College   \n",
            "2996  2007   30        2. Married  1. White       2. HS Grad   \n",
            "2997  2005   27        2. Married  2. Black     1. < HS Grad   \n",
            "2998  2005   27  1. Never Married  1. White  3. Some College   \n",
            "2999  2009   55      5. Separated  1. White       2. HS Grad   \n",
            "\n",
            "                  region        jobclass          health health_ins   logwage  \\\n",
            "0     2. Middle Atlantic   1. Industrial       1. <=Good      2. No  4.318063   \n",
            "1     2. Middle Atlantic  2. Information  2. >=Very Good      2. No  4.255273   \n",
            "2     2. Middle Atlantic   1. Industrial       1. <=Good     1. Yes  4.875061   \n",
            "3     2. Middle Atlantic  2. Information  2. >=Very Good     1. Yes  5.041393   \n",
            "4     2. Middle Atlantic  2. Information       1. <=Good     1. Yes  4.318063   \n",
            "...                  ...             ...             ...        ...       ...   \n",
            "2995  2. Middle Atlantic   1. Industrial  2. >=Very Good     1. Yes  5.041393   \n",
            "2996  2. Middle Atlantic   1. Industrial  2. >=Very Good      2. No  4.602060   \n",
            "2997  2. Middle Atlantic   1. Industrial       1. <=Good      2. No  4.193125   \n",
            "2998  2. Middle Atlantic   1. Industrial  2. >=Very Good     1. Yes  4.477121   \n",
            "2999  2. Middle Atlantic   1. Industrial       1. <=Good     1. Yes  4.505150   \n",
            "\n",
            "            wage  \n",
            "0      75.043154  \n",
            "1      70.476020  \n",
            "2     130.982177  \n",
            "3     154.685293  \n",
            "4      75.043154  \n",
            "...          ...  \n",
            "2995  154.685293  \n",
            "2996   99.689464  \n",
            "2997   66.229408  \n",
            "2998   87.981033  \n",
            "2999   90.481913  \n",
            "\n",
            "[3000 rows x 11 columns]\n",
            "\n",
            "Checking NULL values:\n",
            " year          0\n",
            "age           0\n",
            "maritl        0\n",
            "race          0\n",
            "education     0\n",
            "region        0\n",
            "jobclass      0\n",
            "health        0\n",
            "health_ins    0\n",
            "logwage       0\n",
            "wage          0\n",
            "dtype: int64\n"
          ]
        }
      ],
      "source": [
        "#include libraries\n",
        "import numpy as np\n",
        "import pandas as pd\n",
        "import matplotlib.pyplot as plt\n",
        "\n",
        "#load data and checking contents\n",
        "data = pd.read_csv(\"DT-Wage.csv\")\n",
        "print(data)\n",
        "\n",
        "#check for null values\n",
        "print(\"\\nChecking NULL values:\\n\",data.isnull().sum())"
      ]
    },
    {
      "cell_type": "code",
      "source": [
        "#preprocessing data\n",
        "categorical_cols = data.select_dtypes(include=['object']).columns.tolist()\n",
        "print(\"Categorical Columns:\", categorical_cols)\n",
        "print(\"\\n\")\n",
        "\n",
        "data = pd.get_dummies(data, columns=categorical_cols, drop_first=True)\n",
        "\n",
        "print(data)"
      ],
      "metadata": {
        "colab": {
          "base_uri": "https://localhost:8080/"
        },
        "id": "AOB4daREQ6GR",
        "outputId": "b07a5e1c-0e7f-4e8d-a5c0-2c040b6ef30a"
      },
      "execution_count": 3,
      "outputs": [
        {
          "output_type": "stream",
          "name": "stdout",
          "text": [
            "Categorical Columns: ['maritl', 'race', 'education', 'region', 'jobclass', 'health', 'health_ins']\n",
            "\n",
            "\n",
            "      year  age   logwage        wage  maritl_2. Married  maritl_3. Widowed  \\\n",
            "0     2006   18  4.318063   75.043154              False              False   \n",
            "1     2004   24  4.255273   70.476020              False              False   \n",
            "2     2003   45  4.875061  130.982177               True              False   \n",
            "3     2003   43  5.041393  154.685293               True              False   \n",
            "4     2005   50  4.318063   75.043154              False              False   \n",
            "...    ...  ...       ...         ...                ...                ...   \n",
            "2995  2008   44  5.041393  154.685293               True              False   \n",
            "2996  2007   30  4.602060   99.689464               True              False   \n",
            "2997  2005   27  4.193125   66.229408               True              False   \n",
            "2998  2005   27  4.477121   87.981033              False              False   \n",
            "2999  2009   55  4.505150   90.481913              False              False   \n",
            "\n",
            "      maritl_4. Divorced  maritl_5. Separated  race_2. Black  race_3. Asian  \\\n",
            "0                  False                False          False          False   \n",
            "1                  False                False          False          False   \n",
            "2                  False                False          False          False   \n",
            "3                  False                False          False           True   \n",
            "4                   True                False          False          False   \n",
            "...                  ...                  ...            ...            ...   \n",
            "2995               False                False          False          False   \n",
            "2996               False                False          False          False   \n",
            "2997               False                False           True          False   \n",
            "2998               False                False          False          False   \n",
            "2999               False                 True          False          False   \n",
            "\n",
            "      race_4. Other  education_2. HS Grad  education_3. Some College  \\\n",
            "0             False                 False                      False   \n",
            "1             False                 False                      False   \n",
            "2             False                 False                       True   \n",
            "3             False                 False                      False   \n",
            "4             False                  True                      False   \n",
            "...             ...                   ...                        ...   \n",
            "2995          False                 False                       True   \n",
            "2996          False                  True                      False   \n",
            "2997          False                 False                      False   \n",
            "2998          False                 False                       True   \n",
            "2999          False                  True                      False   \n",
            "\n",
            "      education_4. College Grad  education_5. Advanced Degree  \\\n",
            "0                         False                         False   \n",
            "1                          True                         False   \n",
            "2                         False                         False   \n",
            "3                          True                         False   \n",
            "4                         False                         False   \n",
            "...                         ...                           ...   \n",
            "2995                      False                         False   \n",
            "2996                      False                         False   \n",
            "2997                      False                         False   \n",
            "2998                      False                         False   \n",
            "2999                      False                         False   \n",
            "\n",
            "      jobclass_2. Information  health_2. >=Very Good  health_ins_2. No  \n",
            "0                       False                  False              True  \n",
            "1                        True                   True              True  \n",
            "2                       False                  False             False  \n",
            "3                        True                   True             False  \n",
            "4                        True                  False             False  \n",
            "...                       ...                    ...               ...  \n",
            "2995                    False                   True             False  \n",
            "2996                    False                   True              True  \n",
            "2997                    False                  False              True  \n",
            "2998                    False                   True             False  \n",
            "2999                    False                  False             False  \n",
            "\n",
            "[3000 rows x 18 columns]\n"
          ]
        }
      ]
    },
    {
      "cell_type": "code",
      "source": [
        "#selecting target variable and features\n",
        "X = data.drop(['wage'], axis = 1)\n",
        "y = data['wage']\n",
        "\n",
        "#splitting data for training, validating and testing\n",
        "X_train = X.iloc[:2100]\n",
        "X_validation = X.iloc[2100:2550]\n",
        "X_test = X.iloc[2550:]\n",
        "print(X_validation)\n",
        "y_train = y.iloc[:2100]\n",
        "y_validation = y.iloc[2100:2550]\n",
        "y_test = y.iloc[2550:]"
      ],
      "metadata": {
        "colab": {
          "base_uri": "https://localhost:8080/"
        },
        "id": "q9uTbb65RD39",
        "outputId": "4a10fe28-78ee-4e2a-8060-aa9750e9e714"
      },
      "execution_count": 4,
      "outputs": [
        {
          "output_type": "stream",
          "name": "stdout",
          "text": [
            "      year  age   logwage  maritl_2. Married  maritl_3. Widowed  \\\n",
            "2100  2008   43  4.477121              False              False   \n",
            "2101  2008   42  5.176091               True              False   \n",
            "2102  2005   51  5.243038               True              False   \n",
            "2103  2007   49  4.380211              False              False   \n",
            "2104  2006   48  4.711200               True              False   \n",
            "...    ...  ...       ...                ...                ...   \n",
            "2545  2008   23  4.591087              False              False   \n",
            "2546  2006   46  4.973128              False              False   \n",
            "2547  2005   61  4.913814               True              False   \n",
            "2548  2007   70  4.612784               True              False   \n",
            "2549  2009   59  4.342423               True              False   \n",
            "\n",
            "      maritl_4. Divorced  maritl_5. Separated  race_2. Black  race_3. Asian  \\\n",
            "2100               False                False          False          False   \n",
            "2101               False                False          False          False   \n",
            "2102               False                False          False          False   \n",
            "2103               False                False          False          False   \n",
            "2104               False                False          False          False   \n",
            "...                  ...                  ...            ...            ...   \n",
            "2545               False                False          False          False   \n",
            "2546                True                False          False          False   \n",
            "2547               False                False          False          False   \n",
            "2548               False                False          False          False   \n",
            "2549               False                False          False          False   \n",
            "\n",
            "      race_4. Other  education_2. HS Grad  education_3. Some College  \\\n",
            "2100          False                  True                      False   \n",
            "2101          False                 False                      False   \n",
            "2102          False                 False                      False   \n",
            "2103          False                 False                      False   \n",
            "2104          False                  True                      False   \n",
            "...             ...                   ...                        ...   \n",
            "2545          False                 False                       True   \n",
            "2546          False                 False                       True   \n",
            "2547          False                 False                      False   \n",
            "2548          False                 False                      False   \n",
            "2549          False                  True                      False   \n",
            "\n",
            "      education_4. College Grad  education_5. Advanced Degree  \\\n",
            "2100                      False                         False   \n",
            "2101                      False                          True   \n",
            "2102                       True                         False   \n",
            "2103                       True                         False   \n",
            "2104                      False                         False   \n",
            "...                         ...                           ...   \n",
            "2545                      False                         False   \n",
            "2546                      False                         False   \n",
            "2547                       True                         False   \n",
            "2548                      False                         False   \n",
            "2549                      False                         False   \n",
            "\n",
            "      jobclass_2. Information  health_2. >=Very Good  health_ins_2. No  \n",
            "2100                     True                  False             False  \n",
            "2101                    False                   True             False  \n",
            "2102                     True                   True             False  \n",
            "2103                     True                   True             False  \n",
            "2104                     True                   True             False  \n",
            "...                       ...                    ...               ...  \n",
            "2545                    False                  False              True  \n",
            "2546                     True                   True             False  \n",
            "2547                    False                  False             False  \n",
            "2548                     True                   True              True  \n",
            "2549                    False                  False             False  \n",
            "\n",
            "[450 rows x 17 columns]\n"
          ]
        }
      ]
    },
    {
      "cell_type": "markdown",
      "source": [
        "### **Evaluation Metrics**"
      ],
      "metadata": {
        "id": "lRQfa7f_Ya6b"
      }
    },
    {
      "cell_type": "code",
      "source": [
        "def mean_sq_error(y_true, y_pred):\n",
        "  if len(y_true) != len(y_pred):\n",
        "    raise ValueError(\"Lengths of y_true and y_pred must be the same.\")\n",
        "\n",
        "  # Calculate the squared differences between true and predicted values\n",
        "  squared_errors = [(true - pred) ** 2 for true, pred in zip(y_true, y_pred)]\n",
        "\n",
        "  # Calculate the mean of squared errors\n",
        "  mse = sum(squared_errors) / len(y_true)\n",
        "\n",
        "  return mse"
      ],
      "metadata": {
        "id": "jzkO5HV-YeN2"
      },
      "execution_count": 5,
      "outputs": []
    },
    {
      "cell_type": "markdown",
      "source": [
        "### **Decision Tree**"
      ],
      "metadata": {
        "id": "BsQ82onfbIr9"
      }
    },
    {
      "cell_type": "code",
      "source": [
        "#Training the dataset\n",
        "from sklearn.tree import DecisionTreeRegressor\n",
        "\n",
        "#Define the Decision Tree Regressor\n",
        "dt_regressor = DecisionTreeRegressor()\n",
        "\n",
        "dt = dt_regressor.fit(X_train, y_train)"
      ],
      "metadata": {
        "id": "aI5CO1IZbLTp"
      },
      "execution_count": 6,
      "outputs": []
    },
    {
      "cell_type": "code",
      "source": [
        "#Validating the model using validation set\n",
        "y_pred = dt.predict(X_validation)\n",
        "\n",
        "mse = mean_sq_error(y_validation, y_pred)\n",
        "print('Mean Squared Error: ', mse)"
      ],
      "metadata": {
        "colab": {
          "base_uri": "https://localhost:8080/"
        },
        "id": "yDVyTwvjbZpx",
        "outputId": "df8ceb09-c9e6-49a0-ce5c-fd297f0bc3af"
      },
      "execution_count": 7,
      "outputs": [
        {
          "output_type": "stream",
          "name": "stdout",
          "text": [
            "Mean Squared Error:  0.5606809610924576\n"
          ]
        }
      ]
    },
    {
      "cell_type": "code",
      "source": [
        "#Validating\n",
        "from sklearn.model_selection import GridSearchCV\n",
        "from sklearn.metrics import mean_squared_error, make_scorer\n",
        "\n",
        "# Define the hyperparameter grid for grid search\n",
        "param_grid = {\n",
        "    'max_depth': [None, 3, 5, 7, 10],\n",
        "    'min_samples_split': [2, 5, 10],\n",
        "    'min_samples_leaf': [1, 2, 4]\n",
        "}\n",
        "\n",
        "scoring = make_scorer(mean_squared_error, greater_is_better=False)\n",
        "\n",
        "# Initialize GridSearchCV with cross-validation (e.g., 5-fold)\n",
        "grid_search = GridSearchCV(estimator=dt_regressor, param_grid=param_grid, scoring=scoring, cv=5)\n",
        "\n",
        "# Fit GridSearchCV on the combined training and validation sets\n",
        "X_train_new = X.iloc[:2550]\n",
        "y_train_new = y.iloc[:2550]\n",
        "grid_search.fit(X_train_new, y_train_new)\n",
        "\n",
        "# Get the best model on the test set\n",
        "best_dt_model = grid_search.best_estimator_\n",
        "\n",
        "print(best_dt_model)"
      ],
      "metadata": {
        "colab": {
          "base_uri": "https://localhost:8080/"
        },
        "id": "mhuZvQfsb0BH",
        "outputId": "bf307ec4-e067-4d74-b516-529a49fae8fc"
      },
      "execution_count": 8,
      "outputs": [
        {
          "output_type": "stream",
          "name": "stdout",
          "text": [
            "DecisionTreeRegressor()\n"
          ]
        }
      ]
    },
    {
      "cell_type": "code",
      "source": [
        "#Testing best model using test set\n",
        "y_pred = best_dt_model.predict(X_test)\n",
        "\n",
        "mse = mean_sq_error(y_test, y_pred)\n",
        "print('Mean Squared Error: ', mse)"
      ],
      "metadata": {
        "colab": {
          "base_uri": "https://localhost:8080/"
        },
        "id": "HEoCGGqb2y0c",
        "outputId": "e3fe35dd-af24-47f6-df82-631df2416a48"
      },
      "execution_count": 9,
      "outputs": [
        {
          "output_type": "stream",
          "name": "stdout",
          "text": [
            "Mean Squared Error:  0.7067425794707285\n"
          ]
        }
      ]
    },
    {
      "cell_type": "markdown",
      "source": [
        "## **XGB Regressor**"
      ],
      "metadata": {
        "id": "dqkyv0sWJDxs"
      }
    },
    {
      "cell_type": "code",
      "source": [
        "#Training the dataset\n",
        "import xgboost as xgb\n",
        "\n",
        "#Define the XGBRegressor\n",
        "xgb_regressor = xgb.XGBRegressor(objective='reg:squarederror', random_state=42)\n",
        "\n",
        "xgbr = xgb_regressor.fit(X_train, y_train)"
      ],
      "metadata": {
        "id": "Aa_x5FF6JGcU"
      },
      "execution_count": 10,
      "outputs": []
    },
    {
      "cell_type": "code",
      "source": [
        "#Validating the model using validation set\n",
        "y_pred = xgbr.predict(X_validation)\n",
        "\n",
        "mse = mean_sq_error(y_validation, y_pred)\n",
        "print('Mean Squared Error: ', mse)"
      ],
      "metadata": {
        "colab": {
          "base_uri": "https://localhost:8080/"
        },
        "id": "j6HCEF_XJamk",
        "outputId": "a84f9342-cf78-44d9-ef0b-375f1967a925"
      },
      "execution_count": 11,
      "outputs": [
        {
          "output_type": "stream",
          "name": "stdout",
          "text": [
            "Mean Squared Error:  5.076167179387068\n"
          ]
        }
      ]
    },
    {
      "cell_type": "code",
      "source": [
        "#Validating\n",
        "#Define the hyperparameter grid for grid searching\n",
        "param_grid = {\n",
        "    'max_depth': [3, 5, 7],\n",
        "    'learning_rate': [0.1, 0.01, 0.001],\n",
        "    'n_estimators': [100, 200, 300]\n",
        "}\n",
        "\n",
        "grid_search = GridSearchCV(estimator=xgb_regressor, param_grid=param_grid, cv=3,\n",
        "                           scoring='neg_mean_squared_error')\n",
        "grid_search.fit(X_train_new, y_train_new)\n",
        "\n",
        "# Get the best XGBClassifier model from GridSearchCV\n",
        "best_xgb_model = grid_search.best_estimator_\n",
        "\n",
        "print(best_xgb_model)"
      ],
      "metadata": {
        "colab": {
          "base_uri": "https://localhost:8080/"
        },
        "id": "Q0WFRH-1Jsnb",
        "outputId": "200d6547-7f10-4289-a5f4-66d15dcdc00d"
      },
      "execution_count": 12,
      "outputs": [
        {
          "output_type": "stream",
          "name": "stdout",
          "text": [
            "XGBRegressor(base_score=None, booster=None, callbacks=None,\n",
            "             colsample_bylevel=None, colsample_bynode=None,\n",
            "             colsample_bytree=None, device=None, early_stopping_rounds=None,\n",
            "             enable_categorical=False, eval_metric=None, feature_types=None,\n",
            "             gamma=None, grow_policy=None, importance_type=None,\n",
            "             interaction_constraints=None, learning_rate=0.1, max_bin=None,\n",
            "             max_cat_threshold=None, max_cat_to_onehot=None,\n",
            "             max_delta_step=None, max_depth=3, max_leaves=None,\n",
            "             min_child_weight=None, missing=nan, monotone_constraints=None,\n",
            "             multi_strategy=None, n_estimators=100, n_jobs=None,\n",
            "             num_parallel_tree=None, random_state=42, ...)\n"
          ]
        }
      ]
    },
    {
      "cell_type": "code",
      "source": [
        "#Testing best model using test set\n",
        "y_pred = best_xgb_model.predict(X_test)\n",
        "\n",
        "mse = mean_sq_error(y_test, y_pred)\n",
        "print('Mean Squared Error: ', mse)"
      ],
      "metadata": {
        "colab": {
          "base_uri": "https://localhost:8080/"
        },
        "id": "BzDs8cY0J9sL",
        "outputId": "eba92e56-a990-4f40-9866-479d4b912b7f"
      },
      "execution_count": 13,
      "outputs": [
        {
          "output_type": "stream",
          "name": "stdout",
          "text": [
            "Mean Squared Error:  0.9171398063784151\n"
          ]
        }
      ]
    }
  ]
}
