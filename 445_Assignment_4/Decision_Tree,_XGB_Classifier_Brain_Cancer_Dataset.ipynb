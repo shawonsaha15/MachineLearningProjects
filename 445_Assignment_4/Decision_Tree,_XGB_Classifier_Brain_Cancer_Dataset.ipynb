{
  "nbformat": 4,
  "nbformat_minor": 0,
  "metadata": {
    "colab": {
      "provenance": []
    },
    "kernelspec": {
      "name": "python3",
      "display_name": "Python 3"
    },
    "language_info": {
      "name": "python"
    }
  },
  "cells": [
    {
      "cell_type": "markdown",
      "source": [
        "## **Brain Cancer Dataset**"
      ],
      "metadata": {
        "id": "8Y9DWKUXp4Ak"
      }
    },
    {
      "cell_type": "code",
      "execution_count": null,
      "metadata": {
        "colab": {
          "base_uri": "https://localhost:8080/"
        },
        "id": "Ocj1vSQFpKjC",
        "outputId": "8600cd45-f2b8-4e3c-f556-09293d65e7e3"
      },
      "outputs": [
        {
          "output_type": "stream",
          "name": "stdout",
          "text": [
            "    Unnamed: 0     sex   diagnosis             loc  ki    gtv  status\n",
            "0            1  Female  Meningioma  Infratentorial  90   6.11       0\n",
            "1            2    Male   HG glioma  Supratentorial  90  19.35       1\n",
            "2            3  Female  Meningioma  Infratentorial  70   7.95       0\n",
            "3            4  Female   LG glioma  Supratentorial  80   7.61       1\n",
            "4            5    Male   HG glioma  Supratentorial  90   5.06       1\n",
            "..         ...     ...         ...             ...  ..    ...     ...\n",
            "83          84    Male   HG glioma  Supratentorial  80   0.16       1\n",
            "84          85    Male   HG glioma  Supratentorial  80  19.81       1\n",
            "85          86    Male  Meningioma  Supratentorial  90   2.50       0\n",
            "86          87    Male  Meningioma  Supratentorial  90   2.02       0\n",
            "87          88    Male       Other  Infratentorial  80   0.11       0\n",
            "\n",
            "[88 rows x 7 columns]\n",
            "\n",
            "Checking NULL values:\n",
            " Unnamed: 0    0\n",
            "sex           0\n",
            "diagnosis     1\n",
            "loc           0\n",
            "ki            0\n",
            "gtv           0\n",
            "status        0\n",
            "dtype: int64\n"
          ]
        }
      ],
      "source": [
        "#include libraries\n",
        "import numpy as np\n",
        "import pandas as pd\n",
        "import matplotlib.pyplot as plt\n",
        "\n",
        "#load data and checking contents\n",
        "data = pd.read_csv(\"DT-BrainCancer.csv\")\n",
        "print(data)\n",
        "\n",
        "#check for null values\n",
        "print(\"\\nChecking NULL values:\\n\",data.isnull().sum())"
      ]
    },
    {
      "cell_type": "code",
      "source": [
        "#preprocessing data\n",
        "categorical_cols = data.select_dtypes(include=['object']).columns.tolist()\n",
        "print(\"Categorical Columns:\", categorical_cols)\n",
        "print(\"\\n\")\n",
        "\n",
        "data = pd.get_dummies(data, columns=categorical_cols, drop_first=True)\n",
        "\n",
        "print(data)"
      ],
      "metadata": {
        "colab": {
          "base_uri": "https://localhost:8080/"
        },
        "id": "dhG9ohs9pTk7",
        "outputId": "5789d671-349d-45d0-d72d-e194aceaddc6"
      },
      "execution_count": null,
      "outputs": [
        {
          "output_type": "stream",
          "name": "stdout",
          "text": [
            "Categorical Columns: ['sex', 'diagnosis', 'loc']\n",
            "\n",
            "\n",
            "    Unnamed: 0  ki    gtv  status  sex_Male  diagnosis_LG glioma  \\\n",
            "0            1  90   6.11       0     False                False   \n",
            "1            2  90  19.35       1      True                False   \n",
            "2            3  70   7.95       0     False                False   \n",
            "3            4  80   7.61       1     False                 True   \n",
            "4            5  90   5.06       1      True                False   \n",
            "..         ...  ..    ...     ...       ...                  ...   \n",
            "83          84  80   0.16       1      True                False   \n",
            "84          85  80  19.81       1      True                False   \n",
            "85          86  90   2.50       0      True                False   \n",
            "86          87  90   2.02       0      True                False   \n",
            "87          88  80   0.11       0      True                False   \n",
            "\n",
            "    diagnosis_Meningioma  diagnosis_Other  loc_Supratentorial  \n",
            "0                   True            False               False  \n",
            "1                  False            False                True  \n",
            "2                   True            False               False  \n",
            "3                  False            False                True  \n",
            "4                  False            False                True  \n",
            "..                   ...              ...                 ...  \n",
            "83                 False            False                True  \n",
            "84                 False            False                True  \n",
            "85                  True            False                True  \n",
            "86                  True            False                True  \n",
            "87                 False             True               False  \n",
            "\n",
            "[88 rows x 9 columns]\n"
          ]
        }
      ]
    },
    {
      "cell_type": "code",
      "source": [
        "#selecting target variable and features\n",
        "X = data.drop(['status','Unnamed: 0'], axis = 1)\n",
        "y = data['status']\n",
        "\n",
        "#splitting data for training, validating and testing\n",
        "X_train = X.iloc[:61]\n",
        "X_validation = X.iloc[61:74]\n",
        "X_test = X.iloc[74:]\n",
        "print(X_validation)\n",
        "y_train = y.iloc[:61]\n",
        "y_validation = y.iloc[61:74]\n",
        "y_test = y.iloc[74:]"
      ],
      "metadata": {
        "colab": {
          "base_uri": "https://localhost:8080/"
        },
        "id": "OoU6sa9CpYSa",
        "outputId": "04607aa9-323c-4b8b-ea89-676bcce8eef9"
      },
      "execution_count": null,
      "outputs": [
        {
          "output_type": "stream",
          "name": "stdout",
          "text": [
            "     ki    gtv  sex_Male  diagnosis_LG glioma  diagnosis_Meningioma  \\\n",
            "61   80  11.51      True                False                  True   \n",
            "62   40  22.87     False                False                 False   \n",
            "63   80   4.77      True                False                  True   \n",
            "64   80   9.58      True                 True                 False   \n",
            "65  100   4.00     False                False                  True   \n",
            "66   80   7.59     False                False                 False   \n",
            "67   70   0.01      True                False                 False   \n",
            "68   80   6.93     False                False                  True   \n",
            "69   70   3.63     False                False                  True   \n",
            "70   70   8.45      True                False                  True   \n",
            "71   80  20.93      True                False                  True   \n",
            "72   90   2.64      True                 True                 False   \n",
            "73   80   0.19     False                False                 False   \n",
            "\n",
            "    diagnosis_Other  loc_Supratentorial  \n",
            "61            False                True  \n",
            "62            False                True  \n",
            "63            False                True  \n",
            "64            False                True  \n",
            "65            False                True  \n",
            "66            False                True  \n",
            "67             True               False  \n",
            "68            False                True  \n",
            "69            False                True  \n",
            "70            False                True  \n",
            "71            False                True  \n",
            "72            False                True  \n",
            "73            False                True  \n"
          ]
        }
      ]
    },
    {
      "cell_type": "markdown",
      "source": [
        "### **Evaluation Metrics**"
      ],
      "metadata": {
        "id": "ofzYLRAdpats"
      }
    },
    {
      "cell_type": "code",
      "source": [
        "#Accuracy\n",
        "def calc_accuracy(y_true, y_pred):\n",
        "  correct = 0\n",
        "  total = len(y_true)\n",
        "\n",
        "  for true_label, predicted_label in zip(y_true, y_pred):\n",
        "    if true_label == predicted_label:\n",
        "      correct += 1\n",
        "\n",
        "  accuracy = correct / total\n",
        "  return accuracy\n",
        "\n",
        "#Confusion Matrix\n",
        "def confusion_matrix(y_true, y_pred):\n",
        "  TN, TP, FN, FP = 0, 0, 0, 0\n",
        "\n",
        "  for true_label, predicted_label in zip(y_true, y_pred):\n",
        "    if true_label == 0 and predicted_label == 0:\n",
        "      TN += 1\n",
        "    elif true_label == 0 and predicted_label == 1:\n",
        "      FP += 1\n",
        "    elif true_label == 1 and predicted_label == 0:\n",
        "      FN += 1\n",
        "    elif true_label == 1 and predicted_label == 1:\n",
        "      TP += 1\n",
        "\n",
        "  return (TN, TP, FN, FP)\n",
        "\n",
        "#Precision\n",
        "def precision(y_true, y_pred):\n",
        "  true_positives = 0\n",
        "  false_positives = 0\n",
        "\n",
        "  for true, pred in zip(y_true, y_pred):\n",
        "    if true == 1 and pred == 1:\n",
        "      true_positives += 1\n",
        "    elif true == 0 and pred == 1:\n",
        "      false_positives += 1\n",
        "\n",
        "  if true_positives + false_positives == 0:\n",
        "    precision = 0.0\n",
        "  else:\n",
        "    precision = true_positives / (true_positives + false_positives)\n",
        "\n",
        "  return precision\n",
        "\n",
        "\n",
        "#Average Recall\n",
        "def recall(y_true, y_pred):\n",
        "  true_positives = 0\n",
        "  false_negatives = 0\n",
        "\n",
        "  for true, pred in zip(y_true, y_pred):\n",
        "    if true == 1 and pred == 1:\n",
        "      true_positives += 1\n",
        "    elif true == 1 and pred == 0:\n",
        "      false_negatives += 1\n",
        "\n",
        "  if true_positives + false_negatives == 0:\n",
        "    recall = 0.0\n",
        "  else:\n",
        "    recall = true_positives / (true_positives + false_negatives)\n",
        "\n",
        "  return recall\n",
        "\n",
        "#F1-Score\n",
        "def f1(precision, recall):\n",
        "  f1_score = (2 * precision * recall) / (precision + recall) if (precision + recall) > 0 else 0\n",
        "\n",
        "  return f1_score"
      ],
      "metadata": {
        "id": "kOUn11L-pgaq"
      },
      "execution_count": null,
      "outputs": []
    },
    {
      "cell_type": "markdown",
      "source": [
        "### **Decision Tree**"
      ],
      "metadata": {
        "id": "vf34LYBSyctp"
      }
    },
    {
      "cell_type": "code",
      "source": [
        "#Training the dataset\n",
        "from sklearn.tree import DecisionTreeClassifier\n",
        "\n",
        "#Define the Decision Tree Classifier\n",
        "dt_classifier = DecisionTreeClassifier()\n",
        "\n",
        "dt = dt_classifier.fit(X_train, y_train)"
      ],
      "metadata": {
        "id": "FxdxWyd2ygVs"
      },
      "execution_count": null,
      "outputs": []
    },
    {
      "cell_type": "code",
      "source": [
        "#Validating the model using validation set\n",
        "y_pred = dt.predict(X_validation)\n",
        "\n",
        "acc = calc_accuracy(y_validation, y_pred)\n",
        "print(\"Accuracy: \", acc)\n",
        "prec = precision(y_validation, y_pred)\n",
        "print(\"Precision: \", prec)\n",
        "rec = recall(y_validation, y_pred)\n",
        "print(\"Recall: \", rec)\n",
        "f1_score = f1(prec, rec)\n",
        "print(\"F1-Score: \", f1_score)\n",
        "TN, TP, FN, FP = confusion_matrix(y_validation, y_pred)\n",
        "print(\"Confusion Matrix:\")\n",
        "print(f\"TN: {TN}   FP: {FP}\")\n",
        "print(f\"FN: {FN}   TP: {TP}\")"
      ],
      "metadata": {
        "colab": {
          "base_uri": "https://localhost:8080/"
        },
        "id": "mpg2AciTsXZQ",
        "outputId": "f80fe653-238f-43fc-be28-c8cbd4eb978a"
      },
      "execution_count": null,
      "outputs": [
        {
          "output_type": "stream",
          "name": "stdout",
          "text": [
            "Accuracy:  0.5384615384615384\n",
            "Precision:  0.4444444444444444\n",
            "Recall:  0.8\n",
            "F1-Score:  0.5714285714285714\n",
            "Confusion Matrix:\n",
            "TN: 3   FP: 5\n",
            "FN: 1   TP: 4\n"
          ]
        }
      ]
    },
    {
      "cell_type": "code",
      "source": [
        "#Validating\n",
        "from sklearn.model_selection import GridSearchCV\n",
        "\n",
        "# Define the hyperparameter grid for grid search\n",
        "param_grid = {\n",
        "    'max_depth': [3, 5, 7],\n",
        "    'min_samples_split': [2, 5, 10],\n",
        "    'criterion': ['gini', 'entropy']\n",
        "}\n",
        "\n",
        "# Initialize GridSearchCV with cross-validation (e.g., 5-fold)\n",
        "grid_search = GridSearchCV(estimator=dt_classifier, param_grid=param_grid, cv=5, scoring='accuracy')\n",
        "\n",
        "# Fit GridSearchCV on the combined training and validation sets\n",
        "X_train_new = X.iloc[:74]\n",
        "y_train_new = y.iloc[:74]\n",
        "grid_search.fit(X_train_new, y_train_new)\n",
        "\n",
        "# Get the best model on the test set\n",
        "best_dt_model = grid_search.best_estimator_\n",
        "\n",
        "print(best_dt_model)"
      ],
      "metadata": {
        "colab": {
          "base_uri": "https://localhost:8080/"
        },
        "id": "RQI5H3xMMG33",
        "outputId": "34f29f12-b7ac-404b-90fa-4ca150c14c95"
      },
      "execution_count": null,
      "outputs": [
        {
          "output_type": "stream",
          "name": "stdout",
          "text": [
            "DecisionTreeClassifier(criterion='entropy', max_depth=3, min_samples_split=10)\n"
          ]
        }
      ]
    },
    {
      "cell_type": "code",
      "source": [
        "#Testing best model using test set\n",
        "y_pred = best_dt_model.predict(X_test)\n",
        "\n",
        "acc = calc_accuracy(y_validation, y_pred)\n",
        "print(\"Accuracy: \", acc)\n",
        "prec = precision(y_validation, y_pred)\n",
        "print(\"Precision: \", prec)\n",
        "rec = recall(y_validation, y_pred)\n",
        "print(\"Recall: \", rec)\n",
        "f1_score = f1(prec, rec)\n",
        "print(\"F1-Score: \", f1_score)\n",
        "TN, TP, FN, FP = confusion_matrix(y_validation, y_pred)\n",
        "print(\"Confusion Matrix:\")\n",
        "print(f\"TN: {TN}   FP: {FP}\")\n",
        "print(f\"FN: {FN}   TP: {TP}\")"
      ],
      "metadata": {
        "colab": {
          "base_uri": "https://localhost:8080/"
        },
        "id": "tw0jl3aaMbZL",
        "outputId": "8e12561f-25ce-48c8-d463-d42d42288816"
      },
      "execution_count": null,
      "outputs": [
        {
          "output_type": "stream",
          "name": "stdout",
          "text": [
            "Accuracy:  0.6153846153846154\n",
            "Precision:  0.5\n",
            "Recall:  0.6\n",
            "F1-Score:  0.5454545454545454\n",
            "Confusion Matrix:\n",
            "TN: 5   FP: 3\n",
            "FN: 2   TP: 3\n"
          ]
        }
      ]
    },
    {
      "cell_type": "markdown",
      "source": [
        "### **XGB Classifier**"
      ],
      "metadata": {
        "id": "Tmoo6G54MoUa"
      }
    },
    {
      "cell_type": "code",
      "source": [
        "#Training the dataset\n",
        "import xgboost as xgb\n",
        "\n",
        "#Define the XGBClassifier\n",
        "xgb_classifier = xgb.XGBClassifier(objective='multi:softmax', num_class=3, random_state=42)\n",
        "\n",
        "xgbc = xgb_classifier.fit(X_train, y_train)"
      ],
      "metadata": {
        "id": "uq5yezVbMr68"
      },
      "execution_count": null,
      "outputs": []
    },
    {
      "cell_type": "code",
      "source": [
        "#Validating the model using validation set\n",
        "y_pred = dt.predict(X_validation)\n",
        "\n",
        "acc = calc_accuracy(y_validation, y_pred)\n",
        "print(\"Accuracy: \", acc)\n",
        "prec = precision(y_validation, y_pred)\n",
        "print(\"Precision: \", prec)\n",
        "rec = recall(y_validation, y_pred)\n",
        "print(\"Recall: \", rec)\n",
        "f1_score = f1(prec, rec)\n",
        "print(\"F1-Score: \", f1_score)\n",
        "TN, TP, FN, FP = confusion_matrix(y_validation, y_pred)\n",
        "print(\"Confusion Matrix:\")\n",
        "print(f\"TN: {TN}   FP: {FP}\")\n",
        "print(f\"FN: {FN}   TP: {TP}\")"
      ],
      "metadata": {
        "colab": {
          "base_uri": "https://localhost:8080/"
        },
        "id": "Ljbn6QNAMuPj",
        "outputId": "42ab007a-5969-4675-df35-3197025820fe"
      },
      "execution_count": null,
      "outputs": [
        {
          "output_type": "stream",
          "name": "stdout",
          "text": [
            "Accuracy:  0.5384615384615384\n",
            "Precision:  0.4444444444444444\n",
            "Recall:  0.8\n",
            "F1-Score:  0.5714285714285714\n",
            "Confusion Matrix:\n",
            "TN: 3   FP: 5\n",
            "FN: 1   TP: 4\n"
          ]
        }
      ]
    },
    {
      "cell_type": "code",
      "source": [
        "#Validating\n",
        "#Define the hyperparameter grid for grid searching\n",
        "param_grid = {\n",
        "    'max_depth': [3, 5, 7],\n",
        "    'learning_rate': [0.1, 0.01, 0.001],\n",
        "    'n_estimators': [100, 200, 300]\n",
        "}\n",
        "\n",
        "grid_search = GridSearchCV(estimator=xgb_classifier, param_grid=param_grid, cv=3, scoring='accuracy')\n",
        "grid_search.fit(X_train_new, y_train_new)\n",
        "\n",
        "# Get the best XGBClassifier model from GridSearchCV\n",
        "best_xgb_model = grid_search.best_estimator_\n",
        "\n",
        "print(best_xgb_model)"
      ],
      "metadata": {
        "colab": {
          "base_uri": "https://localhost:8080/"
        },
        "id": "3ZzAhoyUM1Qz",
        "outputId": "74487d0b-249c-489d-c83a-b576bbf82ad2"
      },
      "execution_count": null,
      "outputs": [
        {
          "output_type": "stream",
          "name": "stdout",
          "text": [
            "XGBClassifier(base_score=None, booster=None, callbacks=None,\n",
            "              colsample_bylevel=None, colsample_bynode=None,\n",
            "              colsample_bytree=None, device=None, early_stopping_rounds=None,\n",
            "              enable_categorical=False, eval_metric=None, feature_types=None,\n",
            "              gamma=None, grow_policy=None, importance_type=None,\n",
            "              interaction_constraints=None, learning_rate=0.001, max_bin=None,\n",
            "              max_cat_threshold=None, max_cat_to_onehot=None,\n",
            "              max_delta_step=None, max_depth=5, max_leaves=None,\n",
            "              min_child_weight=None, missing=nan, monotone_constraints=None,\n",
            "              multi_strategy=None, n_estimators=100, n_jobs=None, num_class=3,\n",
            "              num_parallel_tree=None, ...)\n"
          ]
        }
      ]
    },
    {
      "cell_type": "code",
      "source": [
        "#Testing best model using test set\n",
        "y_pred = best_xgb_model.predict(X_test)\n",
        "\n",
        "acc = calc_accuracy(y_validation, y_pred)\n",
        "print(\"Accuracy: \", acc)\n",
        "prec = precision(y_validation, y_pred)\n",
        "print(\"Precision: \", prec)\n",
        "rec = recall(y_validation, y_pred)\n",
        "print(\"Recall: \", rec)\n",
        "f1_score = f1(prec, rec)\n",
        "print(\"F1-Score: \", f1_score)\n",
        "TN, TP, FN, FP = confusion_matrix(y_validation, y_pred)\n",
        "print(\"Confusion Matrix:\")\n",
        "print(f\"TN: {TN}   FP: {FP}\")\n",
        "print(f\"FN: {FN}   TP: {TP}\")"
      ],
      "metadata": {
        "colab": {
          "base_uri": "https://localhost:8080/"
        },
        "id": "yjmeZ3HGM2yN",
        "outputId": "742cf577-8b62-4dfc-d912-10ec88d4286d"
      },
      "execution_count": null,
      "outputs": [
        {
          "output_type": "stream",
          "name": "stdout",
          "text": [
            "Accuracy:  0.5384615384615384\n",
            "Precision:  0.42857142857142855\n",
            "Recall:  0.6\n",
            "F1-Score:  0.5\n",
            "Confusion Matrix:\n",
            "TN: 4   FP: 4\n",
            "FN: 2   TP: 3\n"
          ]
        }
      ]
    }
  ]
}